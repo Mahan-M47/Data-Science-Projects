{
 "cells": [
  {
   "cell_type": "markdown",
   "metadata": {},
   "source": [
    "<h1>Data Science 2nd Assignment<h1>\n",
    "<h3>Dataset: OWID Covid Data<h3>\n",
    "<h3>Mahan Madani – 99222092<h3>"
   ]
  },
  {
   "cell_type": "code",
   "execution_count": 1,
   "metadata": {},
   "outputs": [],
   "source": [
    "import pandas as pd\n",
    "import numpy as np\n",
    "import matplotlib.pylab as plt\n",
    "import seaborn as sns\n",
    "import plotly.express as px\n",
    "\n",
    "pd.options.display.max_columns = 50\n",
    "pd.options.display.max_rows = 70"
   ]
  },
  {
   "cell_type": "markdown",
   "metadata": {},
   "source": [
    "<h3><b>1- Import the Dataset and Preprocess the Data"
   ]
  },
  {
   "cell_type": "code",
   "execution_count": 2,
   "metadata": {},
   "outputs": [
    {
     "name": "stdout",
     "output_type": "stream",
     "text": [
      "Index(['iso_code', 'continent', 'location', 'date', 'total_cases', 'new_cases',\n",
      "       'new_cases_smoothed', 'total_deaths', 'new_deaths',\n",
      "       'new_deaths_smoothed', 'total_cases_per_million',\n",
      "       'new_cases_per_million', 'new_cases_smoothed_per_million',\n",
      "       'total_deaths_per_million', 'new_deaths_per_million',\n",
      "       'new_deaths_smoothed_per_million', 'reproduction_rate', 'icu_patients',\n",
      "       'icu_patients_per_million', 'hosp_patients',\n",
      "       'hosp_patients_per_million', 'weekly_icu_admissions',\n",
      "       'weekly_icu_admissions_per_million', 'weekly_hosp_admissions',\n",
      "       'weekly_hosp_admissions_per_million', 'total_tests', 'new_tests',\n",
      "       'total_tests_per_thousand', 'new_tests_per_thousand',\n",
      "       'new_tests_smoothed', 'new_tests_smoothed_per_thousand',\n",
      "       'positive_rate', 'tests_per_case', 'tests_units', 'total_vaccinations',\n",
      "       'people_vaccinated', 'people_fully_vaccinated', 'total_boosters',\n",
      "       'new_vaccinations', 'new_vaccinations_smoothed',\n",
      "       'total_vaccinations_per_hundred', 'people_vaccinated_per_hundred',\n",
      "       'people_fully_vaccinated_per_hundred', 'total_boosters_per_hundred',\n",
      "       'new_vaccinations_smoothed_per_million',\n",
      "       'new_people_vaccinated_smoothed',\n",
      "       'new_people_vaccinated_smoothed_per_hundred', 'stringency_index',\n",
      "       'population_density', 'median_age', 'aged_65_older', 'aged_70_older',\n",
      "       'gdp_per_capita', 'extreme_poverty', 'cardiovasc_death_rate',\n",
      "       'diabetes_prevalence', 'female_smokers', 'male_smokers',\n",
      "       'handwashing_facilities', 'hospital_beds_per_thousand',\n",
      "       'life_expectancy', 'human_development_index', 'population',\n",
      "       'excess_mortality_cumulative_absolute', 'excess_mortality_cumulative',\n",
      "       'excess_mortality', 'excess_mortality_cumulative_per_million'],\n",
      "      dtype='object')\n",
      "(355174, 67)\n"
     ]
    }
   ],
   "source": [
    "df = pd.read_csv(\"owid-covid-data.csv\")\n",
    "print(df.columns)\n",
    "print(df.shape)"
   ]
  },
  {
   "cell_type": "code",
   "execution_count": 3,
   "metadata": {},
   "outputs": [
    {
     "data": {
      "text/html": [
       "<div>\n",
       "<style scoped>\n",
       "    .dataframe tbody tr th:only-of-type {\n",
       "        vertical-align: middle;\n",
       "    }\n",
       "\n",
       "    .dataframe tbody tr th {\n",
       "        vertical-align: top;\n",
       "    }\n",
       "\n",
       "    .dataframe thead th {\n",
       "        text-align: right;\n",
       "    }\n",
       "</style>\n",
       "<table border=\"1\" class=\"dataframe\">\n",
       "  <thead>\n",
       "    <tr style=\"text-align: right;\">\n",
       "      <th></th>\n",
       "      <th>iso_code</th>\n",
       "      <th>continent</th>\n",
       "      <th>location</th>\n",
       "      <th>date</th>\n",
       "      <th>total_cases</th>\n",
       "      <th>new_cases</th>\n",
       "      <th>new_cases_smoothed</th>\n",
       "      <th>total_deaths</th>\n",
       "      <th>new_deaths</th>\n",
       "      <th>new_deaths_smoothed</th>\n",
       "      <th>total_cases_per_million</th>\n",
       "      <th>new_cases_per_million</th>\n",
       "      <th>new_cases_smoothed_per_million</th>\n",
       "      <th>total_deaths_per_million</th>\n",
       "      <th>new_deaths_per_million</th>\n",
       "      <th>new_deaths_smoothed_per_million</th>\n",
       "      <th>reproduction_rate</th>\n",
       "      <th>icu_patients</th>\n",
       "      <th>icu_patients_per_million</th>\n",
       "      <th>hosp_patients</th>\n",
       "      <th>hosp_patients_per_million</th>\n",
       "      <th>weekly_icu_admissions</th>\n",
       "      <th>weekly_icu_admissions_per_million</th>\n",
       "      <th>weekly_hosp_admissions</th>\n",
       "      <th>weekly_hosp_admissions_per_million</th>\n",
       "      <th>...</th>\n",
       "      <th>people_fully_vaccinated_per_hundred</th>\n",
       "      <th>total_boosters_per_hundred</th>\n",
       "      <th>new_vaccinations_smoothed_per_million</th>\n",
       "      <th>new_people_vaccinated_smoothed</th>\n",
       "      <th>new_people_vaccinated_smoothed_per_hundred</th>\n",
       "      <th>stringency_index</th>\n",
       "      <th>population_density</th>\n",
       "      <th>median_age</th>\n",
       "      <th>aged_65_older</th>\n",
       "      <th>aged_70_older</th>\n",
       "      <th>gdp_per_capita</th>\n",
       "      <th>extreme_poverty</th>\n",
       "      <th>cardiovasc_death_rate</th>\n",
       "      <th>diabetes_prevalence</th>\n",
       "      <th>female_smokers</th>\n",
       "      <th>male_smokers</th>\n",
       "      <th>handwashing_facilities</th>\n",
       "      <th>hospital_beds_per_thousand</th>\n",
       "      <th>life_expectancy</th>\n",
       "      <th>human_development_index</th>\n",
       "      <th>population</th>\n",
       "      <th>excess_mortality_cumulative_absolute</th>\n",
       "      <th>excess_mortality_cumulative</th>\n",
       "      <th>excess_mortality</th>\n",
       "      <th>excess_mortality_cumulative_per_million</th>\n",
       "    </tr>\n",
       "  </thead>\n",
       "  <tbody>\n",
       "    <tr>\n",
       "      <th>0</th>\n",
       "      <td>AFG</td>\n",
       "      <td>Asia</td>\n",
       "      <td>Afghanistan</td>\n",
       "      <td>2020-01-03</td>\n",
       "      <td>NaN</td>\n",
       "      <td>0.0</td>\n",
       "      <td>NaN</td>\n",
       "      <td>NaN</td>\n",
       "      <td>0.0</td>\n",
       "      <td>NaN</td>\n",
       "      <td>NaN</td>\n",
       "      <td>0.0</td>\n",
       "      <td>NaN</td>\n",
       "      <td>NaN</td>\n",
       "      <td>0.0</td>\n",
       "      <td>NaN</td>\n",
       "      <td>NaN</td>\n",
       "      <td>NaN</td>\n",
       "      <td>NaN</td>\n",
       "      <td>NaN</td>\n",
       "      <td>NaN</td>\n",
       "      <td>NaN</td>\n",
       "      <td>NaN</td>\n",
       "      <td>NaN</td>\n",
       "      <td>NaN</td>\n",
       "      <td>...</td>\n",
       "      <td>NaN</td>\n",
       "      <td>NaN</td>\n",
       "      <td>NaN</td>\n",
       "      <td>NaN</td>\n",
       "      <td>NaN</td>\n",
       "      <td>0.0</td>\n",
       "      <td>54.422</td>\n",
       "      <td>18.6</td>\n",
       "      <td>2.581</td>\n",
       "      <td>1.337</td>\n",
       "      <td>1803.987</td>\n",
       "      <td>NaN</td>\n",
       "      <td>597.029</td>\n",
       "      <td>9.59</td>\n",
       "      <td>NaN</td>\n",
       "      <td>NaN</td>\n",
       "      <td>37.746</td>\n",
       "      <td>0.5</td>\n",
       "      <td>64.83</td>\n",
       "      <td>0.511</td>\n",
       "      <td>41128772.0</td>\n",
       "      <td>NaN</td>\n",
       "      <td>NaN</td>\n",
       "      <td>NaN</td>\n",
       "      <td>NaN</td>\n",
       "    </tr>\n",
       "    <tr>\n",
       "      <th>1</th>\n",
       "      <td>AFG</td>\n",
       "      <td>Asia</td>\n",
       "      <td>Afghanistan</td>\n",
       "      <td>2020-01-04</td>\n",
       "      <td>NaN</td>\n",
       "      <td>0.0</td>\n",
       "      <td>NaN</td>\n",
       "      <td>NaN</td>\n",
       "      <td>0.0</td>\n",
       "      <td>NaN</td>\n",
       "      <td>NaN</td>\n",
       "      <td>0.0</td>\n",
       "      <td>NaN</td>\n",
       "      <td>NaN</td>\n",
       "      <td>0.0</td>\n",
       "      <td>NaN</td>\n",
       "      <td>NaN</td>\n",
       "      <td>NaN</td>\n",
       "      <td>NaN</td>\n",
       "      <td>NaN</td>\n",
       "      <td>NaN</td>\n",
       "      <td>NaN</td>\n",
       "      <td>NaN</td>\n",
       "      <td>NaN</td>\n",
       "      <td>NaN</td>\n",
       "      <td>...</td>\n",
       "      <td>NaN</td>\n",
       "      <td>NaN</td>\n",
       "      <td>NaN</td>\n",
       "      <td>NaN</td>\n",
       "      <td>NaN</td>\n",
       "      <td>0.0</td>\n",
       "      <td>54.422</td>\n",
       "      <td>18.6</td>\n",
       "      <td>2.581</td>\n",
       "      <td>1.337</td>\n",
       "      <td>1803.987</td>\n",
       "      <td>NaN</td>\n",
       "      <td>597.029</td>\n",
       "      <td>9.59</td>\n",
       "      <td>NaN</td>\n",
       "      <td>NaN</td>\n",
       "      <td>37.746</td>\n",
       "      <td>0.5</td>\n",
       "      <td>64.83</td>\n",
       "      <td>0.511</td>\n",
       "      <td>41128772.0</td>\n",
       "      <td>NaN</td>\n",
       "      <td>NaN</td>\n",
       "      <td>NaN</td>\n",
       "      <td>NaN</td>\n",
       "    </tr>\n",
       "    <tr>\n",
       "      <th>2</th>\n",
       "      <td>AFG</td>\n",
       "      <td>Asia</td>\n",
       "      <td>Afghanistan</td>\n",
       "      <td>2020-01-05</td>\n",
       "      <td>NaN</td>\n",
       "      <td>0.0</td>\n",
       "      <td>NaN</td>\n",
       "      <td>NaN</td>\n",
       "      <td>0.0</td>\n",
       "      <td>NaN</td>\n",
       "      <td>NaN</td>\n",
       "      <td>0.0</td>\n",
       "      <td>NaN</td>\n",
       "      <td>NaN</td>\n",
       "      <td>0.0</td>\n",
       "      <td>NaN</td>\n",
       "      <td>NaN</td>\n",
       "      <td>NaN</td>\n",
       "      <td>NaN</td>\n",
       "      <td>NaN</td>\n",
       "      <td>NaN</td>\n",
       "      <td>NaN</td>\n",
       "      <td>NaN</td>\n",
       "      <td>NaN</td>\n",
       "      <td>NaN</td>\n",
       "      <td>...</td>\n",
       "      <td>NaN</td>\n",
       "      <td>NaN</td>\n",
       "      <td>NaN</td>\n",
       "      <td>NaN</td>\n",
       "      <td>NaN</td>\n",
       "      <td>0.0</td>\n",
       "      <td>54.422</td>\n",
       "      <td>18.6</td>\n",
       "      <td>2.581</td>\n",
       "      <td>1.337</td>\n",
       "      <td>1803.987</td>\n",
       "      <td>NaN</td>\n",
       "      <td>597.029</td>\n",
       "      <td>9.59</td>\n",
       "      <td>NaN</td>\n",
       "      <td>NaN</td>\n",
       "      <td>37.746</td>\n",
       "      <td>0.5</td>\n",
       "      <td>64.83</td>\n",
       "      <td>0.511</td>\n",
       "      <td>41128772.0</td>\n",
       "      <td>NaN</td>\n",
       "      <td>NaN</td>\n",
       "      <td>NaN</td>\n",
       "      <td>NaN</td>\n",
       "    </tr>\n",
       "  </tbody>\n",
       "</table>\n",
       "<p>3 rows × 67 columns</p>\n",
       "</div>"
      ],
      "text/plain": [
       "  iso_code continent     location        date  total_cases  new_cases  \\\n",
       "0      AFG      Asia  Afghanistan  2020-01-03          NaN        0.0   \n",
       "1      AFG      Asia  Afghanistan  2020-01-04          NaN        0.0   \n",
       "2      AFG      Asia  Afghanistan  2020-01-05          NaN        0.0   \n",
       "\n",
       "   new_cases_smoothed  total_deaths  new_deaths  new_deaths_smoothed  \\\n",
       "0                 NaN           NaN         0.0                  NaN   \n",
       "1                 NaN           NaN         0.0                  NaN   \n",
       "2                 NaN           NaN         0.0                  NaN   \n",
       "\n",
       "   total_cases_per_million  new_cases_per_million  \\\n",
       "0                      NaN                    0.0   \n",
       "1                      NaN                    0.0   \n",
       "2                      NaN                    0.0   \n",
       "\n",
       "   new_cases_smoothed_per_million  total_deaths_per_million  \\\n",
       "0                             NaN                       NaN   \n",
       "1                             NaN                       NaN   \n",
       "2                             NaN                       NaN   \n",
       "\n",
       "   new_deaths_per_million  new_deaths_smoothed_per_million  reproduction_rate  \\\n",
       "0                     0.0                              NaN                NaN   \n",
       "1                     0.0                              NaN                NaN   \n",
       "2                     0.0                              NaN                NaN   \n",
       "\n",
       "   icu_patients  icu_patients_per_million  hosp_patients  \\\n",
       "0           NaN                       NaN            NaN   \n",
       "1           NaN                       NaN            NaN   \n",
       "2           NaN                       NaN            NaN   \n",
       "\n",
       "   hosp_patients_per_million  weekly_icu_admissions  \\\n",
       "0                        NaN                    NaN   \n",
       "1                        NaN                    NaN   \n",
       "2                        NaN                    NaN   \n",
       "\n",
       "   weekly_icu_admissions_per_million  weekly_hosp_admissions  \\\n",
       "0                                NaN                     NaN   \n",
       "1                                NaN                     NaN   \n",
       "2                                NaN                     NaN   \n",
       "\n",
       "   weekly_hosp_admissions_per_million  ...  \\\n",
       "0                                 NaN  ...   \n",
       "1                                 NaN  ...   \n",
       "2                                 NaN  ...   \n",
       "\n",
       "   people_fully_vaccinated_per_hundred  total_boosters_per_hundred  \\\n",
       "0                                  NaN                         NaN   \n",
       "1                                  NaN                         NaN   \n",
       "2                                  NaN                         NaN   \n",
       "\n",
       "   new_vaccinations_smoothed_per_million  new_people_vaccinated_smoothed  \\\n",
       "0                                    NaN                             NaN   \n",
       "1                                    NaN                             NaN   \n",
       "2                                    NaN                             NaN   \n",
       "\n",
       "   new_people_vaccinated_smoothed_per_hundred  stringency_index  \\\n",
       "0                                         NaN               0.0   \n",
       "1                                         NaN               0.0   \n",
       "2                                         NaN               0.0   \n",
       "\n",
       "   population_density  median_age aged_65_older  aged_70_older  \\\n",
       "0              54.422        18.6         2.581          1.337   \n",
       "1              54.422        18.6         2.581          1.337   \n",
       "2              54.422        18.6         2.581          1.337   \n",
       "\n",
       "   gdp_per_capita  extreme_poverty  cardiovasc_death_rate  \\\n",
       "0        1803.987              NaN                597.029   \n",
       "1        1803.987              NaN                597.029   \n",
       "2        1803.987              NaN                597.029   \n",
       "\n",
       "   diabetes_prevalence  female_smokers  male_smokers  handwashing_facilities  \\\n",
       "0                 9.59             NaN           NaN                  37.746   \n",
       "1                 9.59             NaN           NaN                  37.746   \n",
       "2                 9.59             NaN           NaN                  37.746   \n",
       "\n",
       "   hospital_beds_per_thousand  life_expectancy  human_development_index  \\\n",
       "0                         0.5            64.83                    0.511   \n",
       "1                         0.5            64.83                    0.511   \n",
       "2                         0.5            64.83                    0.511   \n",
       "\n",
       "   population  excess_mortality_cumulative_absolute  \\\n",
       "0  41128772.0                                   NaN   \n",
       "1  41128772.0                                   NaN   \n",
       "2  41128772.0                                   NaN   \n",
       "\n",
       "   excess_mortality_cumulative  excess_mortality  \\\n",
       "0                          NaN               NaN   \n",
       "1                          NaN               NaN   \n",
       "2                          NaN               NaN   \n",
       "\n",
       "   excess_mortality_cumulative_per_million  \n",
       "0                                      NaN  \n",
       "1                                      NaN  \n",
       "2                                      NaN  \n",
       "\n",
       "[3 rows x 67 columns]"
      ]
     },
     "execution_count": 3,
     "metadata": {},
     "output_type": "execute_result"
    }
   ],
   "source": [
    "df.head(3)"
   ]
  },
  {
   "cell_type": "code",
   "execution_count": 4,
   "metadata": {},
   "outputs": [
    {
     "name": "stdout",
     "output_type": "stream",
     "text": [
      "<class 'pandas.core.frame.DataFrame'>\n",
      "RangeIndex: 355174 entries, 0 to 355173\n",
      "Data columns (total 67 columns):\n",
      " #   Column                                      Non-Null Count   Dtype  \n",
      "---  ------                                      --------------   -----  \n",
      " 0   iso_code                                    355174 non-null  object \n",
      " 1   continent                                   338302 non-null  object \n",
      " 2   location                                    355174 non-null  object \n",
      " 3   date                                        355174 non-null  object \n",
      " 4   total_cases                                 317212 non-null  float64\n",
      " 5   new_cases                                   345616 non-null  float64\n",
      " 6   new_cases_smoothed                          344357 non-null  float64\n",
      " 7   total_deaths                                295499 non-null  float64\n",
      " 8   new_deaths                                  345664 non-null  float64\n",
      " 9   new_deaths_smoothed                         344434 non-null  float64\n",
      " 10  total_cases_per_million                     317212 non-null  float64\n",
      " 11  new_cases_per_million                       345616 non-null  float64\n",
      " 12  new_cases_smoothed_per_million              344357 non-null  float64\n",
      " 13  total_deaths_per_million                    295499 non-null  float64\n",
      " 14  new_deaths_per_million                      345664 non-null  float64\n",
      " 15  new_deaths_smoothed_per_million             344434 non-null  float64\n",
      " 16  reproduction_rate                           184817 non-null  float64\n",
      " 17  icu_patients                                37723 non-null   float64\n",
      " 18  icu_patients_per_million                    37723 non-null   float64\n",
      " 19  hosp_patients                               39055 non-null   float64\n",
      " 20  hosp_patients_per_million                   39055 non-null   float64\n",
      " 21  weekly_icu_admissions                       10257 non-null   float64\n",
      " 22  weekly_icu_admissions_per_million           10257 non-null   float64\n",
      " 23  weekly_hosp_admissions                      23368 non-null   float64\n",
      " 24  weekly_hosp_admissions_per_million          23368 non-null   float64\n",
      " 25  total_tests                                 79387 non-null   float64\n",
      " 26  new_tests                                   75403 non-null   float64\n",
      " 27  total_tests_per_thousand                    79387 non-null   float64\n",
      " 28  new_tests_per_thousand                      75403 non-null   float64\n",
      " 29  new_tests_smoothed                          103965 non-null  float64\n",
      " 30  new_tests_smoothed_per_thousand             103965 non-null  float64\n",
      " 31  positive_rate                               95927 non-null   float64\n",
      " 32  tests_per_case                              94348 non-null   float64\n",
      " 33  tests_units                                 106788 non-null  object \n",
      " 34  total_vaccinations                          79668 non-null   float64\n",
      " 35  people_vaccinated                           76252 non-null   float64\n",
      " 36  people_fully_vaccinated                     72930 non-null   float64\n",
      " 37  total_boosters                              47900 non-null   float64\n",
      " 38  new_vaccinations                            65666 non-null   float64\n",
      " 39  new_vaccinations_smoothed                   182558 non-null  float64\n",
      " 40  total_vaccinations_per_hundred              79668 non-null   float64\n",
      " 41  people_vaccinated_per_hundred               76252 non-null   float64\n",
      " 42  people_fully_vaccinated_per_hundred         72930 non-null   float64\n",
      " 43  total_boosters_per_hundred                  47900 non-null   float64\n",
      " 44  new_vaccinations_smoothed_per_million       182558 non-null  float64\n",
      " 45  new_people_vaccinated_smoothed              182334 non-null  float64\n",
      " 46  new_people_vaccinated_smoothed_per_hundred  182334 non-null  float64\n",
      " 47  stringency_index                            197651 non-null  float64\n",
      " 48  population_density                          301586 non-null  float64\n",
      " 49  median_age                                  280439 non-null  float64\n",
      " 50  aged_65_older                               270654 non-null  float64\n",
      " 51  aged_70_older                               277627 non-null  float64\n",
      " 52  gdp_per_capita                              274872 non-null  float64\n",
      " 53  extreme_poverty                             177160 non-null  float64\n",
      " 54  cardiovasc_death_rate                       275522 non-null  float64\n",
      " 55  diabetes_prevalence                         289543 non-null  float64\n",
      " 56  female_smokers                              206686 non-null  float64\n",
      " 57  male_smokers                                203874 non-null  float64\n",
      " 58  handwashing_facilities                      134978 non-null  float64\n",
      " 59  hospital_beds_per_thousand                  243242 non-null  float64\n",
      " 60  life_expectancy                             326837 non-null  float64\n",
      " 61  human_development_index                     267047 non-null  float64\n",
      " 62  population                                  355174 non-null  float64\n",
      " 63  excess_mortality_cumulative_absolute        12211 non-null   float64\n",
      " 64  excess_mortality_cumulative                 12211 non-null   float64\n",
      " 65  excess_mortality                            12211 non-null   float64\n",
      " 66  excess_mortality_cumulative_per_million     12211 non-null   float64\n",
      "dtypes: float64(62), object(5)\n",
      "memory usage: 181.6+ MB\n"
     ]
    }
   ],
   "source": [
    "df.info()"
   ]
  },
  {
   "cell_type": "markdown",
   "metadata": {},
   "source": [
    "<h4>Drop Unnecessary Features</h4>"
   ]
  },
  {
   "cell_type": "code",
   "execution_count": 5,
   "metadata": {},
   "outputs": [
    {
     "name": "stdout",
     "output_type": "stream",
     "text": [
      "<class 'pandas.core.frame.DataFrame'>\n",
      "RangeIndex: 355174 entries, 0 to 355173\n",
      "Data columns (total 47 columns):\n",
      " #   Column                                 Non-Null Count   Dtype  \n",
      "---  ------                                 --------------   -----  \n",
      " 0   iso_code                               355174 non-null  object \n",
      " 1   continent                              338302 non-null  object \n",
      " 2   location                               355174 non-null  object \n",
      " 3   date                                   355174 non-null  object \n",
      " 4   total_cases                            317212 non-null  float64\n",
      " 5   new_cases                              345616 non-null  float64\n",
      " 6   new_cases_smoothed                     344357 non-null  float64\n",
      " 7   total_deaths                           295499 non-null  float64\n",
      " 8   new_deaths                             345664 non-null  float64\n",
      " 9   new_deaths_smoothed                    344434 non-null  float64\n",
      " 10  total_cases_per_million                317212 non-null  float64\n",
      " 11  new_cases_per_million                  345616 non-null  float64\n",
      " 12  new_cases_smoothed_per_million         344357 non-null  float64\n",
      " 13  total_deaths_per_million               295499 non-null  float64\n",
      " 14  new_deaths_per_million                 345664 non-null  float64\n",
      " 15  new_deaths_smoothed_per_million        344434 non-null  float64\n",
      " 16  reproduction_rate                      184817 non-null  float64\n",
      " 17  icu_patients                           37723 non-null   float64\n",
      " 18  icu_patients_per_million               37723 non-null   float64\n",
      " 19  hosp_patients                          39055 non-null   float64\n",
      " 20  hosp_patients_per_million              39055 non-null   float64\n",
      " 21  total_tests                            79387 non-null   float64\n",
      " 22  new_tests                              75403 non-null   float64\n",
      " 23  new_tests_smoothed                     103965 non-null  float64\n",
      " 24  positive_rate                          95927 non-null   float64\n",
      " 25  tests_per_case                         94348 non-null   float64\n",
      " 26  total_vaccinations                     79668 non-null   float64\n",
      " 27  people_vaccinated                      76252 non-null   float64\n",
      " 28  people_fully_vaccinated                72930 non-null   float64\n",
      " 29  total_boosters                         47900 non-null   float64\n",
      " 30  new_vaccinations                       65666 non-null   float64\n",
      " 31  new_vaccinations_smoothed              182558 non-null  float64\n",
      " 32  new_vaccinations_smoothed_per_million  182558 non-null  float64\n",
      " 33  new_people_vaccinated_smoothed         182334 non-null  float64\n",
      " 34  stringency_index                       197651 non-null  float64\n",
      " 35  population_density                     301586 non-null  float64\n",
      " 36  median_age                             280439 non-null  float64\n",
      " 37  aged_65_older                          270654 non-null  float64\n",
      " 38  aged_70_older                          277627 non-null  float64\n",
      " 39  gdp_per_capita                         274872 non-null  float64\n",
      " 40  extreme_poverty                        177160 non-null  float64\n",
      " 41  cardiovasc_death_rate                  275522 non-null  float64\n",
      " 42  diabetes_prevalence                    289543 non-null  float64\n",
      " 43  female_smokers                         206686 non-null  float64\n",
      " 44  male_smokers                           203874 non-null  float64\n",
      " 45  handwashing_facilities                 134978 non-null  float64\n",
      " 46  population                             355174 non-null  float64\n",
      "dtypes: float64(43), object(4)\n",
      "memory usage: 127.4+ MB\n"
     ]
    }
   ],
   "source": [
    "pattern = 'weekly|hundred|thousand|mortality'\n",
    "filtered_columns = df.filter(regex=pattern, axis=1)\n",
    "\n",
    "df = df.drop(columns=filtered_columns.columns)\n",
    "df = df.drop(columns=[\"life_expectancy\", \"human_development_index\", \"tests_units\"])\n",
    "df.info()"
   ]
  },
  {
   "cell_type": "markdown",
   "metadata": {},
   "source": [
    "<h4>Check for Duplicate Values</h4>"
   ]
  },
  {
   "cell_type": "code",
   "execution_count": 6,
   "metadata": {},
   "outputs": [
    {
     "name": "stdout",
     "output_type": "stream",
     "text": [
      "No duplicate records found.\n"
     ]
    }
   ],
   "source": [
    "columns_to_check_duplicates = [\"iso_code\", \"date\"]\n",
    "duplicate_rows = df[df.duplicated(subset=columns_to_check_duplicates, keep=False)]\n",
    "\n",
    "if not duplicate_rows.empty:\n",
    "    print(\"Duplicate records found:\")\n",
    "    print(duplicate_rows)\n",
    "else:\n",
    "    print(\"No duplicate records found.\")"
   ]
  },
  {
   "cell_type": "markdown",
   "metadata": {},
   "source": [
    "<h4>Convert Data Types</h4>"
   ]
  },
  {
   "cell_type": "code",
   "execution_count": 7,
   "metadata": {},
   "outputs": [],
   "source": [
    "df['date'] = pd.to_datetime(df['date'], format='mixed')"
   ]
  },
  {
   "cell_type": "markdown",
   "metadata": {},
   "source": [
    "<h4>Handle Null Values</h4>"
   ]
  },
  {
   "cell_type": "code",
   "execution_count": 8,
   "metadata": {},
   "outputs": [
    {
     "data": {
      "text/html": [
       "<div>\n",
       "<style scoped>\n",
       "    .dataframe tbody tr th:only-of-type {\n",
       "        vertical-align: middle;\n",
       "    }\n",
       "\n",
       "    .dataframe tbody tr th {\n",
       "        vertical-align: top;\n",
       "    }\n",
       "\n",
       "    .dataframe thead th {\n",
       "        text-align: right;\n",
       "    }\n",
       "</style>\n",
       "<table border=\"1\" class=\"dataframe\">\n",
       "  <thead>\n",
       "    <tr style=\"text-align: right;\">\n",
       "      <th></th>\n",
       "      <th>Null Count</th>\n",
       "    </tr>\n",
       "  </thead>\n",
       "  <tbody>\n",
       "    <tr>\n",
       "      <th>iso_code</th>\n",
       "      <td>0</td>\n",
       "    </tr>\n",
       "    <tr>\n",
       "      <th>continent</th>\n",
       "      <td>16872</td>\n",
       "    </tr>\n",
       "    <tr>\n",
       "      <th>location</th>\n",
       "      <td>0</td>\n",
       "    </tr>\n",
       "    <tr>\n",
       "      <th>date</th>\n",
       "      <td>0</td>\n",
       "    </tr>\n",
       "    <tr>\n",
       "      <th>total_cases</th>\n",
       "      <td>37962</td>\n",
       "    </tr>\n",
       "    <tr>\n",
       "      <th>new_cases</th>\n",
       "      <td>9558</td>\n",
       "    </tr>\n",
       "    <tr>\n",
       "      <th>new_cases_smoothed</th>\n",
       "      <td>10817</td>\n",
       "    </tr>\n",
       "    <tr>\n",
       "      <th>total_deaths</th>\n",
       "      <td>59675</td>\n",
       "    </tr>\n",
       "    <tr>\n",
       "      <th>new_deaths</th>\n",
       "      <td>9510</td>\n",
       "    </tr>\n",
       "    <tr>\n",
       "      <th>new_deaths_smoothed</th>\n",
       "      <td>10740</td>\n",
       "    </tr>\n",
       "    <tr>\n",
       "      <th>total_cases_per_million</th>\n",
       "      <td>37962</td>\n",
       "    </tr>\n",
       "    <tr>\n",
       "      <th>new_cases_per_million</th>\n",
       "      <td>9558</td>\n",
       "    </tr>\n",
       "    <tr>\n",
       "      <th>new_cases_smoothed_per_million</th>\n",
       "      <td>10817</td>\n",
       "    </tr>\n",
       "    <tr>\n",
       "      <th>total_deaths_per_million</th>\n",
       "      <td>59675</td>\n",
       "    </tr>\n",
       "    <tr>\n",
       "      <th>new_deaths_per_million</th>\n",
       "      <td>9510</td>\n",
       "    </tr>\n",
       "    <tr>\n",
       "      <th>new_deaths_smoothed_per_million</th>\n",
       "      <td>10740</td>\n",
       "    </tr>\n",
       "    <tr>\n",
       "      <th>reproduction_rate</th>\n",
       "      <td>170357</td>\n",
       "    </tr>\n",
       "    <tr>\n",
       "      <th>icu_patients</th>\n",
       "      <td>317451</td>\n",
       "    </tr>\n",
       "    <tr>\n",
       "      <th>icu_patients_per_million</th>\n",
       "      <td>317451</td>\n",
       "    </tr>\n",
       "    <tr>\n",
       "      <th>hosp_patients</th>\n",
       "      <td>316119</td>\n",
       "    </tr>\n",
       "    <tr>\n",
       "      <th>hosp_patients_per_million</th>\n",
       "      <td>316119</td>\n",
       "    </tr>\n",
       "    <tr>\n",
       "      <th>total_tests</th>\n",
       "      <td>275787</td>\n",
       "    </tr>\n",
       "    <tr>\n",
       "      <th>new_tests</th>\n",
       "      <td>279771</td>\n",
       "    </tr>\n",
       "    <tr>\n",
       "      <th>new_tests_smoothed</th>\n",
       "      <td>251209</td>\n",
       "    </tr>\n",
       "    <tr>\n",
       "      <th>positive_rate</th>\n",
       "      <td>259247</td>\n",
       "    </tr>\n",
       "    <tr>\n",
       "      <th>tests_per_case</th>\n",
       "      <td>260826</td>\n",
       "    </tr>\n",
       "    <tr>\n",
       "      <th>total_vaccinations</th>\n",
       "      <td>275506</td>\n",
       "    </tr>\n",
       "    <tr>\n",
       "      <th>people_vaccinated</th>\n",
       "      <td>278922</td>\n",
       "    </tr>\n",
       "    <tr>\n",
       "      <th>people_fully_vaccinated</th>\n",
       "      <td>282244</td>\n",
       "    </tr>\n",
       "    <tr>\n",
       "      <th>total_boosters</th>\n",
       "      <td>307274</td>\n",
       "    </tr>\n",
       "    <tr>\n",
       "      <th>new_vaccinations</th>\n",
       "      <td>289508</td>\n",
       "    </tr>\n",
       "    <tr>\n",
       "      <th>new_vaccinations_smoothed</th>\n",
       "      <td>172616</td>\n",
       "    </tr>\n",
       "    <tr>\n",
       "      <th>new_vaccinations_smoothed_per_million</th>\n",
       "      <td>172616</td>\n",
       "    </tr>\n",
       "    <tr>\n",
       "      <th>new_people_vaccinated_smoothed</th>\n",
       "      <td>172840</td>\n",
       "    </tr>\n",
       "    <tr>\n",
       "      <th>stringency_index</th>\n",
       "      <td>157523</td>\n",
       "    </tr>\n",
       "    <tr>\n",
       "      <th>population_density</th>\n",
       "      <td>53588</td>\n",
       "    </tr>\n",
       "    <tr>\n",
       "      <th>median_age</th>\n",
       "      <td>74735</td>\n",
       "    </tr>\n",
       "    <tr>\n",
       "      <th>aged_65_older</th>\n",
       "      <td>84520</td>\n",
       "    </tr>\n",
       "    <tr>\n",
       "      <th>aged_70_older</th>\n",
       "      <td>77547</td>\n",
       "    </tr>\n",
       "    <tr>\n",
       "      <th>gdp_per_capita</th>\n",
       "      <td>80302</td>\n",
       "    </tr>\n",
       "    <tr>\n",
       "      <th>extreme_poverty</th>\n",
       "      <td>178014</td>\n",
       "    </tr>\n",
       "    <tr>\n",
       "      <th>cardiovasc_death_rate</th>\n",
       "      <td>79652</td>\n",
       "    </tr>\n",
       "    <tr>\n",
       "      <th>diabetes_prevalence</th>\n",
       "      <td>65631</td>\n",
       "    </tr>\n",
       "    <tr>\n",
       "      <th>female_smokers</th>\n",
       "      <td>148488</td>\n",
       "    </tr>\n",
       "    <tr>\n",
       "      <th>male_smokers</th>\n",
       "      <td>151300</td>\n",
       "    </tr>\n",
       "    <tr>\n",
       "      <th>handwashing_facilities</th>\n",
       "      <td>220196</td>\n",
       "    </tr>\n",
       "    <tr>\n",
       "      <th>population</th>\n",
       "      <td>0</td>\n",
       "    </tr>\n",
       "  </tbody>\n",
       "</table>\n",
       "</div>"
      ],
      "text/plain": [
       "                                       Null Count\n",
       "iso_code                                        0\n",
       "continent                                   16872\n",
       "location                                        0\n",
       "date                                            0\n",
       "total_cases                                 37962\n",
       "new_cases                                    9558\n",
       "new_cases_smoothed                          10817\n",
       "total_deaths                                59675\n",
       "new_deaths                                   9510\n",
       "new_deaths_smoothed                         10740\n",
       "total_cases_per_million                     37962\n",
       "new_cases_per_million                        9558\n",
       "new_cases_smoothed_per_million              10817\n",
       "total_deaths_per_million                    59675\n",
       "new_deaths_per_million                       9510\n",
       "new_deaths_smoothed_per_million             10740\n",
       "reproduction_rate                          170357\n",
       "icu_patients                               317451\n",
       "icu_patients_per_million                   317451\n",
       "hosp_patients                              316119\n",
       "hosp_patients_per_million                  316119\n",
       "total_tests                                275787\n",
       "new_tests                                  279771\n",
       "new_tests_smoothed                         251209\n",
       "positive_rate                              259247\n",
       "tests_per_case                             260826\n",
       "total_vaccinations                         275506\n",
       "people_vaccinated                          278922\n",
       "people_fully_vaccinated                    282244\n",
       "total_boosters                             307274\n",
       "new_vaccinations                           289508\n",
       "new_vaccinations_smoothed                  172616\n",
       "new_vaccinations_smoothed_per_million      172616\n",
       "new_people_vaccinated_smoothed             172840\n",
       "stringency_index                           157523\n",
       "population_density                          53588\n",
       "median_age                                  74735\n",
       "aged_65_older                               84520\n",
       "aged_70_older                               77547\n",
       "gdp_per_capita                              80302\n",
       "extreme_poverty                            178014\n",
       "cardiovasc_death_rate                       79652\n",
       "diabetes_prevalence                         65631\n",
       "female_smokers                             148488\n",
       "male_smokers                               151300\n",
       "handwashing_facilities                     220196\n",
       "population                                      0"
      ]
     },
     "execution_count": 8,
     "metadata": {},
     "output_type": "execute_result"
    }
   ],
   "source": [
    "null_counts = df.isnull().sum()\n",
    "null_table = pd.DataFrame(null_counts, columns=[\"Null Count\"])\n",
    "null_table"
   ]
  },
  {
   "cell_type": "code",
   "execution_count": 9,
   "metadata": {},
   "outputs": [],
   "source": [
    "df['continent'] = df['continent'].fillna('Unknown')"
   ]
  },
  {
   "cell_type": "code",
   "execution_count": 10,
   "metadata": {},
   "outputs": [
    {
     "data": {
      "text/plain": [
       "(344323, 47)"
      ]
     },
     "execution_count": 10,
     "metadata": {},
     "output_type": "execute_result"
    }
   ],
   "source": [
    "df = df.dropna(subset=['new_cases', 'new_cases_smoothed', 'new_deaths', 'new_deaths_smoothed', 'new_cases_per_million',\n",
    "                        'new_cases_smoothed_per_million', 'new_deaths_per_million', 'new_deaths_smoothed_per_million'])\n",
    "df.shape"
   ]
  },
  {
   "cell_type": "code",
   "execution_count": 11,
   "metadata": {},
   "outputs": [
    {
     "name": "stderr",
     "output_type": "stream",
     "text": [
      "C:\\Users\\Mahan\\AppData\\Local\\Temp\\ipykernel_78976\\442502232.py:9: FutureWarning: DataFrame.interpolate with object dtype is deprecated and will raise in a future version. Call obj.infer_objects(copy=False) before interpolating instead.\n",
      "  cleaned_df = cleaned_df.interpolate().bfill()\n"
     ]
    },
    {
     "data": {
      "text/plain": [
       "(344323, 33)"
      ]
     },
     "execution_count": 11,
     "metadata": {},
     "output_type": "execute_result"
    }
   ],
   "source": [
    "hosp_columns = ['icu_patients', 'icu_patients_per_million', 'hosp_patients', 'hosp_patients_per_million']\n",
    "tests_columns = ['total_tests', 'new_tests', 'new_tests_smoothed', 'positive_rate', 'tests_per_case']\n",
    "vaccination_columns = ['total_vaccinations', 'people_vaccinated', 'people_fully_vaccinated', 'total_boosters', 'new_vaccinations']\n",
    "\n",
    "df.infer_objects(copy=False).dtypes\n",
    "excluded_columns = hosp_columns + tests_columns + vaccination_columns\n",
    "\n",
    "cleaned_df = df.drop(columns=excluded_columns)\n",
    "cleaned_df = cleaned_df.interpolate().bfill()\n",
    "cleaned_df.shape\n"
   ]
  },
  {
   "cell_type": "code",
   "execution_count": 12,
   "metadata": {},
   "outputs": [
    {
     "name": "stderr",
     "output_type": "stream",
     "text": [
      "C:\\Users\\Mahan\\AppData\\Local\\Temp\\ipykernel_78976\\3606770123.py:3: FutureWarning: DataFrame.interpolate with object dtype is deprecated and will raise in a future version. Call obj.infer_objects(copy=False) before interpolating instead.\n",
      "  hosp_df = hosp_df.interpolate().bfill()\n"
     ]
    },
    {
     "data": {
      "text/plain": [
       "(27870, 47)"
      ]
     },
     "execution_count": 12,
     "metadata": {},
     "output_type": "execute_result"
    }
   ],
   "source": [
    "hosp_df = df.copy() \n",
    "hosp_df = hosp_df.dropna(subset=hosp_columns)\n",
    "hosp_df = hosp_df.interpolate().bfill()\n",
    "hosp_df.shape"
   ]
  },
  {
   "cell_type": "code",
   "execution_count": 13,
   "metadata": {},
   "outputs": [
    {
     "name": "stderr",
     "output_type": "stream",
     "text": [
      "C:\\Users\\Mahan\\AppData\\Local\\Temp\\ipykernel_78976\\2595537452.py:3: FutureWarning: DataFrame.interpolate with object dtype is deprecated and will raise in a future version. Call obj.infer_objects(copy=False) before interpolating instead.\n",
      "  tests_df = tests_df.interpolate().bfill()\n"
     ]
    },
    {
     "data": {
      "text/plain": [
       "(68126, 47)"
      ]
     },
     "execution_count": 13,
     "metadata": {},
     "output_type": "execute_result"
    }
   ],
   "source": [
    "tests_df = df.copy()\n",
    "tests_df = tests_df.dropna(subset=tests_columns)\n",
    "tests_df = tests_df.interpolate().bfill()\n",
    "tests_df.shape"
   ]
  },
  {
   "cell_type": "code",
   "execution_count": 14,
   "metadata": {},
   "outputs": [
    {
     "name": "stderr",
     "output_type": "stream",
     "text": [
      "C:\\Users\\Mahan\\AppData\\Local\\Temp\\ipykernel_78976\\3098766068.py:3: FutureWarning: DataFrame.interpolate with object dtype is deprecated and will raise in a future version. Call obj.infer_objects(copy=False) before interpolating instead.\n",
      "  tests_df = tests_df.interpolate().bfill()\n"
     ]
    },
    {
     "data": {
      "text/plain": [
       "(36117, 47)"
      ]
     },
     "execution_count": 14,
     "metadata": {},
     "output_type": "execute_result"
    }
   ],
   "source": [
    "vaccination_df = df.copy()\n",
    "vaccination_df = vaccination_df.dropna(subset=vaccination_columns)\n",
    "tests_df = tests_df.interpolate().bfill()\n",
    "vaccination_df.shape"
   ]
  },
  {
   "cell_type": "code",
   "execution_count": 15,
   "metadata": {},
   "outputs": [
    {
     "data": {
      "text/html": [
       "<div>\n",
       "<style scoped>\n",
       "    .dataframe tbody tr th:only-of-type {\n",
       "        vertical-align: middle;\n",
       "    }\n",
       "\n",
       "    .dataframe tbody tr th {\n",
       "        vertical-align: top;\n",
       "    }\n",
       "\n",
       "    .dataframe thead th {\n",
       "        text-align: right;\n",
       "    }\n",
       "</style>\n",
       "<table border=\"1\" class=\"dataframe\">\n",
       "  <thead>\n",
       "    <tr style=\"text-align: right;\">\n",
       "      <th></th>\n",
       "      <th>Null Count</th>\n",
       "    </tr>\n",
       "  </thead>\n",
       "  <tbody>\n",
       "    <tr>\n",
       "      <th>iso_code</th>\n",
       "      <td>0</td>\n",
       "    </tr>\n",
       "    <tr>\n",
       "      <th>continent</th>\n",
       "      <td>0</td>\n",
       "    </tr>\n",
       "    <tr>\n",
       "      <th>location</th>\n",
       "      <td>0</td>\n",
       "    </tr>\n",
       "    <tr>\n",
       "      <th>date</th>\n",
       "      <td>0</td>\n",
       "    </tr>\n",
       "    <tr>\n",
       "      <th>total_cases</th>\n",
       "      <td>0</td>\n",
       "    </tr>\n",
       "    <tr>\n",
       "      <th>new_cases</th>\n",
       "      <td>0</td>\n",
       "    </tr>\n",
       "    <tr>\n",
       "      <th>new_cases_smoothed</th>\n",
       "      <td>0</td>\n",
       "    </tr>\n",
       "    <tr>\n",
       "      <th>total_deaths</th>\n",
       "      <td>0</td>\n",
       "    </tr>\n",
       "    <tr>\n",
       "      <th>new_deaths</th>\n",
       "      <td>0</td>\n",
       "    </tr>\n",
       "    <tr>\n",
       "      <th>new_deaths_smoothed</th>\n",
       "      <td>0</td>\n",
       "    </tr>\n",
       "    <tr>\n",
       "      <th>total_cases_per_million</th>\n",
       "      <td>0</td>\n",
       "    </tr>\n",
       "    <tr>\n",
       "      <th>new_cases_per_million</th>\n",
       "      <td>0</td>\n",
       "    </tr>\n",
       "    <tr>\n",
       "      <th>new_cases_smoothed_per_million</th>\n",
       "      <td>0</td>\n",
       "    </tr>\n",
       "    <tr>\n",
       "      <th>total_deaths_per_million</th>\n",
       "      <td>0</td>\n",
       "    </tr>\n",
       "    <tr>\n",
       "      <th>new_deaths_per_million</th>\n",
       "      <td>0</td>\n",
       "    </tr>\n",
       "    <tr>\n",
       "      <th>new_deaths_smoothed_per_million</th>\n",
       "      <td>0</td>\n",
       "    </tr>\n",
       "    <tr>\n",
       "      <th>reproduction_rate</th>\n",
       "      <td>0</td>\n",
       "    </tr>\n",
       "    <tr>\n",
       "      <th>new_vaccinations_smoothed</th>\n",
       "      <td>0</td>\n",
       "    </tr>\n",
       "    <tr>\n",
       "      <th>new_vaccinations_smoothed_per_million</th>\n",
       "      <td>0</td>\n",
       "    </tr>\n",
       "    <tr>\n",
       "      <th>new_people_vaccinated_smoothed</th>\n",
       "      <td>0</td>\n",
       "    </tr>\n",
       "    <tr>\n",
       "      <th>stringency_index</th>\n",
       "      <td>0</td>\n",
       "    </tr>\n",
       "    <tr>\n",
       "      <th>population_density</th>\n",
       "      <td>0</td>\n",
       "    </tr>\n",
       "    <tr>\n",
       "      <th>median_age</th>\n",
       "      <td>0</td>\n",
       "    </tr>\n",
       "    <tr>\n",
       "      <th>aged_65_older</th>\n",
       "      <td>0</td>\n",
       "    </tr>\n",
       "    <tr>\n",
       "      <th>aged_70_older</th>\n",
       "      <td>0</td>\n",
       "    </tr>\n",
       "    <tr>\n",
       "      <th>gdp_per_capita</th>\n",
       "      <td>0</td>\n",
       "    </tr>\n",
       "    <tr>\n",
       "      <th>extreme_poverty</th>\n",
       "      <td>0</td>\n",
       "    </tr>\n",
       "    <tr>\n",
       "      <th>cardiovasc_death_rate</th>\n",
       "      <td>0</td>\n",
       "    </tr>\n",
       "    <tr>\n",
       "      <th>diabetes_prevalence</th>\n",
       "      <td>0</td>\n",
       "    </tr>\n",
       "    <tr>\n",
       "      <th>female_smokers</th>\n",
       "      <td>0</td>\n",
       "    </tr>\n",
       "    <tr>\n",
       "      <th>male_smokers</th>\n",
       "      <td>0</td>\n",
       "    </tr>\n",
       "    <tr>\n",
       "      <th>handwashing_facilities</th>\n",
       "      <td>0</td>\n",
       "    </tr>\n",
       "    <tr>\n",
       "      <th>population</th>\n",
       "      <td>0</td>\n",
       "    </tr>\n",
       "  </tbody>\n",
       "</table>\n",
       "</div>"
      ],
      "text/plain": [
       "                                       Null Count\n",
       "iso_code                                        0\n",
       "continent                                       0\n",
       "location                                        0\n",
       "date                                            0\n",
       "total_cases                                     0\n",
       "new_cases                                       0\n",
       "new_cases_smoothed                              0\n",
       "total_deaths                                    0\n",
       "new_deaths                                      0\n",
       "new_deaths_smoothed                             0\n",
       "total_cases_per_million                         0\n",
       "new_cases_per_million                           0\n",
       "new_cases_smoothed_per_million                  0\n",
       "total_deaths_per_million                        0\n",
       "new_deaths_per_million                          0\n",
       "new_deaths_smoothed_per_million                 0\n",
       "reproduction_rate                               0\n",
       "new_vaccinations_smoothed                       0\n",
       "new_vaccinations_smoothed_per_million           0\n",
       "new_people_vaccinated_smoothed                  0\n",
       "stringency_index                                0\n",
       "population_density                              0\n",
       "median_age                                      0\n",
       "aged_65_older                                   0\n",
       "aged_70_older                                   0\n",
       "gdp_per_capita                                  0\n",
       "extreme_poverty                                 0\n",
       "cardiovasc_death_rate                           0\n",
       "diabetes_prevalence                             0\n",
       "female_smokers                                  0\n",
       "male_smokers                                    0\n",
       "handwashing_facilities                          0\n",
       "population                                      0"
      ]
     },
     "execution_count": 15,
     "metadata": {},
     "output_type": "execute_result"
    }
   ],
   "source": [
    "null_counts = cleaned_df.isnull().sum()\n",
    "null_table = pd.DataFrame(null_counts, columns=[\"Null Count\"])\n",
    "null_table"
   ]
  },
  {
   "cell_type": "code",
   "execution_count": 16,
   "metadata": {},
   "outputs": [
    {
     "data": {
      "text/plain": [
       "(344323, 33)"
      ]
     },
     "execution_count": 16,
     "metadata": {},
     "output_type": "execute_result"
    }
   ],
   "source": [
    "df = cleaned_df.reset_index().copy()\n",
    "df = df.drop(columns=['index'])\n",
    "df.shape"
   ]
  },
  {
   "cell_type": "markdown",
   "metadata": {},
   "source": [
    "<h4>Feature Generation</h4>"
   ]
  },
  {
   "cell_type": "code",
   "execution_count": 17,
   "metadata": {},
   "outputs": [
    {
     "data": {
      "text/plain": [
       "iso_code                                                 DNK\n",
       "continent                                             Europe\n",
       "location                                             Denmark\n",
       "date                                     2020-07-01 00:00:00\n",
       "total_cases                                          12768.0\n",
       "new_cases                                               17.0\n",
       "new_cases_smoothed                                    29.571\n",
       "total_deaths                                           611.0\n",
       "new_deaths                                               0.0\n",
       "new_deaths_smoothed                                    0.286\n",
       "total_cases_per_million                             2170.595\n",
       "new_cases_per_million                                   2.89\n",
       "new_cases_smoothed_per_million                         5.027\n",
       "total_deaths_per_million                             103.872\n",
       "new_deaths_per_million                                   0.0\n",
       "new_deaths_smoothed_per_million                        0.049\n",
       "reproduction_rate                                       0.88\n",
       "new_vaccinations_smoothed                       16691.142857\n",
       "new_vaccinations_smoothed_per_million                168.625\n",
       "new_people_vaccinated_smoothed                  11472.928571\n",
       "stringency_index                                       57.41\n",
       "population_density                                    136.52\n",
       "median_age                                              42.3\n",
       "aged_65_older                                         19.677\n",
       "aged_70_older                                         12.325\n",
       "gdp_per_capita                                     46682.515\n",
       "extreme_poverty                                          0.2\n",
       "cardiovasc_death_rate                                114.767\n",
       "diabetes_prevalence                                     6.41\n",
       "female_smokers                                          19.3\n",
       "male_smokers                                            18.8\n",
       "handwashing_facilities                              6.594969\n",
       "population                                         5882259.0\n",
       "year                                                    2020\n",
       "month                                                   July\n",
       "total_smokers                                           38.1\n",
       "Name: 80000, dtype: object"
      ]
     },
     "execution_count": 17,
     "metadata": {},
     "output_type": "execute_result"
    }
   ],
   "source": [
    "df['year'] = df['date'].dt.year\n",
    "df['month'] = df['date'].dt.month_name()\n",
    "df['total_smokers'] = df['male_smokers'] + df['female_smokers']\n",
    "df.iloc[80000]"
   ]
  },
  {
   "cell_type": "markdown",
   "metadata": {},
   "source": [
    "<h4>Detect Outliers</h4>\n",
    "Identify outliers using the Z-score method"
   ]
  },
  {
   "cell_type": "code",
   "execution_count": 18,
   "metadata": {},
   "outputs": [
    {
     "name": "stdout",
     "output_type": "stream",
     "text": [
      "Outlier records:\n",
      "       iso_code continent           location       date  total_cases  \\\n",
      "6401        ASM   Oceania     American Samoa 2022-03-15        779.0   \n",
      "6403        ASM   Oceania     American Samoa 2022-03-17       1063.0   \n",
      "6404        ASM   Oceania     American Samoa 2022-03-18       1063.0   \n",
      "6405        ASM   Oceania     American Samoa 2022-03-19       1063.0   \n",
      "6406        ASM   Oceania     American Samoa 2022-03-20       1397.0   \n",
      "...         ...       ...                ...        ...          ...   \n",
      "338562      WLF   Oceania  Wallis and Futuna 2023-06-02       3550.0   \n",
      "338563      WLF   Oceania  Wallis and Futuna 2023-06-03       3550.0   \n",
      "338564      WLF   Oceania  Wallis and Futuna 2023-06-04       3550.0   \n",
      "338565      WLF   Oceania  Wallis and Futuna 2023-06-05       3550.0   \n",
      "338566      WLF   Oceania  Wallis and Futuna 2023-06-06       3550.0   \n",
      "\n",
      "        new_cases  new_cases_smoothed  total_deaths  new_deaths  \\\n",
      "6401        163.0              61.000     77.728625         0.0   \n",
      "6403        284.0              88.571     60.677819         0.0   \n",
      "6404          0.0              88.571     52.152416         0.0   \n",
      "6405          0.0              88.571     43.627014         0.0   \n",
      "6406        334.0             120.286     35.101611         0.0   \n",
      "...           ...                 ...           ...         ...   \n",
      "338562        0.0               6.000      8.000000         0.0   \n",
      "338563        0.0               6.000      8.000000         0.0   \n",
      "338564        0.0               6.000      8.000000         0.0   \n",
      "338565        0.0               6.000      8.000000         0.0   \n",
      "338566        0.0               6.000      8.000000         0.0   \n",
      "\n",
      "        new_deaths_smoothed  total_cases_per_million  new_cases_per_million  \\\n",
      "6401                  0.000                17586.635               3679.874   \n",
      "6403                  0.000                23998.194               6411.559   \n",
      "6404                  0.000                23998.194                  0.000   \n",
      "6405                  0.000                23998.194                  0.000   \n",
      "6406                  0.000                31538.548               7540.354   \n",
      "...                     ...                      ...                    ...   \n",
      "338562                0.143               306140.048                  0.000   \n",
      "338563                0.143               306140.048                  0.000   \n",
      "338564                0.143               306140.048                  0.000   \n",
      "338565                0.143               306140.048                  0.000   \n",
      "338566                0.143               306140.048                  0.000   \n",
      "\n",
      "        new_cases_smoothed_per_million  total_deaths_per_million  \\\n",
      "6401                          1377.131                 24.033230   \n",
      "6403                          1999.581                 23.709401   \n",
      "6404                          1999.581                 23.547487   \n",
      "6405                          1999.581                 23.385572   \n",
      "6406                          2715.560                 23.223658   \n",
      "...                                ...                       ...   \n",
      "338562                         517.420                689.893000   \n",
      "338563                         517.420                689.893000   \n",
      "338564                         517.420                689.893000   \n",
      "338565                         517.420                689.893000   \n",
      "338566                         517.420                689.893000   \n",
      "\n",
      "        new_deaths_per_million  new_deaths_smoothed_per_million  \\\n",
      "6401                       0.0                             0.00   \n",
      "6403                       0.0                             0.00   \n",
      "6404                       0.0                             0.00   \n",
      "6405                       0.0                             0.00   \n",
      "6406                       0.0                             0.00   \n",
      "...                        ...                              ...   \n",
      "338562                     0.0                            12.32   \n",
      "338563                     0.0                            12.32   \n",
      "338564                     0.0                            12.32   \n",
      "338565                     0.0                            12.32   \n",
      "338566                     0.0                            12.32   \n",
      "\n",
      "        reproduction_rate  new_vaccinations_smoothed  \\\n",
      "6401             1.009205                 316.566787   \n",
      "6403             1.009384                 316.059567   \n",
      "6404             1.009474                 315.805957   \n",
      "6405             1.009564                 315.552347   \n",
      "6406             1.009653                 315.298736   \n",
      "...                   ...                        ...   \n",
      "338562           2.894644                   0.789984   \n",
      "338563           2.896103                   0.788368   \n",
      "338564           2.897562                   0.786753   \n",
      "338565           2.899021                   0.785137   \n",
      "338566           2.900481                   0.783522   \n",
      "\n",
      "        new_vaccinations_smoothed_per_million  new_people_vaccinated_smoothed  \\\n",
      "6401                               464.525271                       36.574007   \n",
      "6403                               465.259025                       36.633574   \n",
      "6404                               465.625903                       36.663357   \n",
      "6405                               465.992780                       36.693141   \n",
      "6406                               466.359657                       36.722924   \n",
      "...                                       ...                             ...   \n",
      "338562                              67.938611                        0.000000   \n",
      "338563                              67.799677                        0.000000   \n",
      "338564                              67.660743                        0.000000   \n",
      "338565                              67.521809                        0.000000   \n",
      "338566                              67.382876                        0.000000   \n",
      "\n",
      "        stringency_index  population_density  median_age  aged_65_older  \\\n",
      "6401            3.915076          278.205000   25.598252       5.127451   \n",
      "6403            3.902112          278.205000   25.589476       5.124735   \n",
      "6404            3.895630          278.205000   25.585087       5.123377   \n",
      "6405            3.889148          278.205000   25.580699       5.122020   \n",
      "6406            3.882666          278.205000   25.576311       5.120662   \n",
      "...                  ...                 ...         ...            ...   \n",
      "338562         11.601011           86.585029   31.094009       8.519566   \n",
      "338563         11.593579           86.406653   31.092796       8.520669   \n",
      "338564         11.586148           86.228278   31.091583       8.521772   \n",
      "338565         11.578716           86.049903   31.090371       8.522874   \n",
      "338566         11.571284           85.871528   31.089158       8.523977   \n",
      "\n",
      "        aged_70_older  gdp_per_capita  extreme_poverty  cardiovasc_death_rate  \\\n",
      "6401         3.146686    11609.419980         0.511392             283.750000   \n",
      "6403         3.144906    11603.644494         0.511420             283.750000   \n",
      "6404         3.144016    11600.756751         0.511435             283.750000   \n",
      "6405         3.143126    11597.869008         0.511449             283.750000   \n",
      "6406         3.142235    11594.981265         0.511463             283.750000   \n",
      "...               ...             ...              ...                    ...   \n",
      "338562       5.282304    14408.171565         9.087019             234.484551   \n",
      "338563       5.282758    14414.803036         9.092725             234.475710   \n",
      "338564       5.283213    14421.434508         9.098431             234.466869   \n",
      "338565       5.283667    14428.065979         9.104137             234.458028   \n",
      "338566       5.284121    14434.697451         9.109843             234.449187   \n",
      "\n",
      "        diabetes_prevalence  female_smokers  male_smokers  \\\n",
      "6401               7.435792       16.807989     34.611983   \n",
      "6403               7.437561       16.848359     34.622539   \n",
      "6404               7.438445       16.868545     34.627817   \n",
      "6405               7.439330       16.888730     34.633096   \n",
      "6406               7.440214       16.908916     34.638374   \n",
      "...                     ...             ...           ...   \n",
      "338562             8.223552        5.813857     35.920592   \n",
      "338563             8.225342        5.817733     35.912557   \n",
      "338564             8.227133        5.821609     35.904522   \n",
      "338565             8.228923        5.825485     35.896487   \n",
      "338566             8.230713        5.829361     35.888452   \n",
      "\n",
      "        handwashing_facilities  population  year  month  total_smokers  \n",
      "6401                 67.491465     44295.0  2022  March      51.419971  \n",
      "6403                 67.450740     44295.0  2022  March      51.470899  \n",
      "6404                 67.430377     44295.0  2022  March      51.496362  \n",
      "6405                 67.410014     44295.0  2022  March      51.521826  \n",
      "6406                 67.389651     44295.0  2022  March      51.547290  \n",
      "...                        ...         ...   ...    ...            ...  \n",
      "338562               63.064893     11596.0  2023   June      41.734449  \n",
      "338563               63.046550     11596.0  2023   June      41.730290  \n",
      "338564               63.028207     11596.0  2023   June      41.726131  \n",
      "338565               63.009864     11596.0  2023   June      41.721972  \n",
      "338566               62.991521     11596.0  2023   June      41.717813  \n",
      "\n",
      "[24683 rows x 36 columns]\n"
     ]
    }
   ],
   "source": [
    "from scipy.stats import zscore\n",
    "selected_columns = ['total_cases_per_million', 'new_cases_per_million', 'new_cases_smoothed_per_million',\n",
    "                    'total_deaths_per_million', 'new_deaths_per_million','new_deaths_smoothed_per_million']\n",
    "\n",
    "z_scores = pd.DataFrame(zscore(df[selected_columns]), columns=selected_columns)\n",
    "\n",
    "threshold = 3\n",
    "outliers = df[(z_scores.abs() > threshold).any(axis=1)]\n",
    "\n",
    "print(\"Outlier records:\")\n",
    "print(outliers)"
   ]
  },
  {
   "cell_type": "code",
   "execution_count": 19,
   "metadata": {},
   "outputs": [
    {
     "name": "stdout",
     "output_type": "stream",
     "text": [
      "\n",
      "DataFrame without outliers:\n",
      "       iso_code continent     location       date  total_cases  new_cases  \\\n",
      "0           AFG      Asia  Afghanistan 2020-01-08          1.0        0.0   \n",
      "1           AFG      Asia  Afghanistan 2020-01-09          1.0        0.0   \n",
      "2           AFG      Asia  Afghanistan 2020-01-10          1.0        0.0   \n",
      "3           AFG      Asia  Afghanistan 2020-01-11          1.0        0.0   \n",
      "4           AFG      Asia  Afghanistan 2020-01-12          1.0        0.0   \n",
      "...         ...       ...          ...        ...          ...        ...   \n",
      "319635      ZWE    Africa     Zimbabwe 2023-11-04     265848.0        0.0   \n",
      "319636      ZWE    Africa     Zimbabwe 2023-11-05     265848.0        0.0   \n",
      "319637      ZWE    Africa     Zimbabwe 2023-11-06     265848.0        0.0   \n",
      "319638      ZWE    Africa     Zimbabwe 2023-11-07     265848.0        0.0   \n",
      "319639      ZWE    Africa     Zimbabwe 2023-11-08     265848.0        0.0   \n",
      "\n",
      "        new_cases_smoothed  total_deaths  new_deaths  new_deaths_smoothed  \\\n",
      "0                      0.0           1.0         0.0                  0.0   \n",
      "1                      0.0           1.0         0.0                  0.0   \n",
      "2                      0.0           1.0         0.0                  0.0   \n",
      "3                      0.0           1.0         0.0                  0.0   \n",
      "4                      0.0           1.0         0.0                  0.0   \n",
      "...                    ...           ...         ...                  ...   \n",
      "319635                 0.0        5723.0         0.0                  0.0   \n",
      "319636                 0.0        5723.0         0.0                  0.0   \n",
      "319637                 0.0        5723.0         0.0                  0.0   \n",
      "319638                 0.0        5723.0         0.0                  0.0   \n",
      "319639                 0.0        5723.0         0.0                  0.0   \n",
      "\n",
      "        total_cases_per_million  new_cases_per_million  \\\n",
      "0                         0.024                    0.0   \n",
      "1                         0.024                    0.0   \n",
      "2                         0.024                    0.0   \n",
      "3                         0.024                    0.0   \n",
      "4                         0.024                    0.0   \n",
      "...                         ...                    ...   \n",
      "319635                16289.168                    0.0   \n",
      "319636                16289.168                    0.0   \n",
      "319637                16289.168                    0.0   \n",
      "319638                16289.168                    0.0   \n",
      "319639                16289.168                    0.0   \n",
      "\n",
      "        new_cases_smoothed_per_million  total_deaths_per_million  \\\n",
      "0                                  0.0                     0.024   \n",
      "1                                  0.0                     0.024   \n",
      "2                                  0.0                     0.024   \n",
      "3                                  0.0                     0.024   \n",
      "4                                  0.0                     0.024   \n",
      "...                                ...                       ...   \n",
      "319635                             0.0                   350.662   \n",
      "319636                             0.0                   350.662   \n",
      "319637                             0.0                   350.662   \n",
      "319638                             0.0                   350.662   \n",
      "319639                             0.0                   350.662   \n",
      "\n",
      "        new_deaths_per_million  new_deaths_smoothed_per_million  \\\n",
      "0                          0.0                              0.0   \n",
      "1                          0.0                              0.0   \n",
      "2                          0.0                              0.0   \n",
      "3                          0.0                              0.0   \n",
      "4                          0.0                              0.0   \n",
      "...                        ...                              ...   \n",
      "319635                     0.0                              0.0   \n",
      "319636                     0.0                              0.0   \n",
      "319637                     0.0                              0.0   \n",
      "319638                     0.0                              0.0   \n",
      "319639                     0.0                              0.0   \n",
      "\n",
      "        reproduction_rate  new_vaccinations_smoothed  \\\n",
      "0                    1.51                     1367.0   \n",
      "1                    1.51                     1367.0   \n",
      "2                    1.51                     1367.0   \n",
      "3                    1.51                     1367.0   \n",
      "4                    1.51                     1367.0   \n",
      "...                   ...                        ...   \n",
      "319635               0.03                     1126.0   \n",
      "319636               0.03                     1126.0   \n",
      "319637               0.03                     1126.0   \n",
      "319638               0.03                     1126.0   \n",
      "319639               0.03                     1126.0   \n",
      "\n",
      "        new_vaccinations_smoothed_per_million  new_people_vaccinated_smoothed  \\\n",
      "0                                        33.0                          1367.0   \n",
      "1                                        33.0                          1367.0   \n",
      "2                                        33.0                          1367.0   \n",
      "3                                        33.0                          1367.0   \n",
      "4                                        33.0                          1367.0   \n",
      "...                                       ...                             ...   \n",
      "319635                                   69.0                           332.0   \n",
      "319636                                   69.0                           332.0   \n",
      "319637                                   69.0                           332.0   \n",
      "319638                                   69.0                           332.0   \n",
      "319639                                   69.0                           332.0   \n",
      "\n",
      "        stringency_index  population_density  median_age  aged_65_older  \\\n",
      "0                    0.0              54.422        18.6          2.581   \n",
      "1                    0.0              54.422        18.6          2.581   \n",
      "2                    0.0              54.422        18.6          2.581   \n",
      "3                    0.0              54.422        18.6          2.581   \n",
      "4                    0.0              54.422        18.6          2.581   \n",
      "...                  ...                 ...         ...            ...   \n",
      "319635              53.7              42.729        19.6          2.822   \n",
      "319636              53.7              42.729        19.6          2.822   \n",
      "319637              53.7              42.729        19.6          2.822   \n",
      "319638              53.7              42.729        19.6          2.822   \n",
      "319639              53.7              42.729        19.6          2.822   \n",
      "\n",
      "        aged_70_older  gdp_per_capita  extreme_poverty  cardiovasc_death_rate  \\\n",
      "0               1.337        1803.987              1.1                597.029   \n",
      "1               1.337        1803.987              1.1                597.029   \n",
      "2               1.337        1803.987              1.1                597.029   \n",
      "3               1.337        1803.987              1.1                597.029   \n",
      "4               1.337        1803.987              1.1                597.029   \n",
      "...               ...             ...              ...                    ...   \n",
      "319635          1.882        1899.775             21.4                307.846   \n",
      "319636          1.882        1899.775             21.4                307.846   \n",
      "319637          1.882        1899.775             21.4                307.846   \n",
      "319638          1.882        1899.775             21.4                307.846   \n",
      "319639          1.882        1899.775             21.4                307.846   \n",
      "\n",
      "        diabetes_prevalence  female_smokers  male_smokers  \\\n",
      "0                      9.59             7.1          51.2   \n",
      "1                      9.59             7.1          51.2   \n",
      "2                      9.59             7.1          51.2   \n",
      "3                      9.59             7.1          51.2   \n",
      "4                      9.59             7.1          51.2   \n",
      "...                     ...             ...           ...   \n",
      "319635                 1.82             1.6          30.7   \n",
      "319636                 1.82             1.6          30.7   \n",
      "319637                 1.82             1.6          30.7   \n",
      "319638                 1.82             1.6          30.7   \n",
      "319639                 1.82             1.6          30.7   \n",
      "\n",
      "        handwashing_facilities  population  year     month  total_smokers  \n",
      "0                       37.746  41128772.0  2020   January           58.3  \n",
      "1                       37.746  41128772.0  2020   January           58.3  \n",
      "2                       37.746  41128772.0  2020   January           58.3  \n",
      "3                       37.746  41128772.0  2020   January           58.3  \n",
      "4                       37.746  41128772.0  2020   January           58.3  \n",
      "...                        ...         ...   ...       ...            ...  \n",
      "319635                  36.791  16320539.0  2023  November           32.3  \n",
      "319636                  36.791  16320539.0  2023  November           32.3  \n",
      "319637                  36.791  16320539.0  2023  November           32.3  \n",
      "319638                  36.791  16320539.0  2023  November           32.3  \n",
      "319639                  36.791  16320539.0  2023  November           32.3  \n",
      "\n",
      "[319640 rows x 36 columns]\n"
     ]
    }
   ],
   "source": [
    "df_with_outlier = df.copy()\n",
    "df = df[(z_scores.abs() < threshold).all(axis=1)].reset_index()\n",
    "df = df.drop(columns=['index'])\n",
    "\n",
    "print(\"\\nDataFrame without outliers:\")\n",
    "print(df)"
   ]
  },
  {
   "cell_type": "markdown",
   "metadata": {},
   "source": [
    "<h3><b>2- Data Analysis"
   ]
  },
  {
   "cell_type": "code",
   "execution_count": 20,
   "metadata": {},
   "outputs": [
    {
     "data": {
      "text/html": [
       "<div>\n",
       "<style scoped>\n",
       "    .dataframe tbody tr th:only-of-type {\n",
       "        vertical-align: middle;\n",
       "    }\n",
       "\n",
       "    .dataframe tbody tr th {\n",
       "        vertical-align: top;\n",
       "    }\n",
       "\n",
       "    .dataframe thead th {\n",
       "        text-align: right;\n",
       "    }\n",
       "</style>\n",
       "<table border=\"1\" class=\"dataframe\">\n",
       "  <thead>\n",
       "    <tr style=\"text-align: right;\">\n",
       "      <th></th>\n",
       "      <th>date</th>\n",
       "      <th>total_cases</th>\n",
       "      <th>new_cases</th>\n",
       "      <th>new_cases_smoothed</th>\n",
       "      <th>total_deaths</th>\n",
       "      <th>new_deaths</th>\n",
       "      <th>new_deaths_smoothed</th>\n",
       "      <th>total_cases_per_million</th>\n",
       "      <th>new_cases_per_million</th>\n",
       "      <th>new_cases_smoothed_per_million</th>\n",
       "      <th>total_deaths_per_million</th>\n",
       "      <th>new_deaths_per_million</th>\n",
       "      <th>new_deaths_smoothed_per_million</th>\n",
       "      <th>reproduction_rate</th>\n",
       "      <th>new_vaccinations_smoothed</th>\n",
       "      <th>new_vaccinations_smoothed_per_million</th>\n",
       "      <th>new_people_vaccinated_smoothed</th>\n",
       "      <th>stringency_index</th>\n",
       "      <th>population_density</th>\n",
       "      <th>median_age</th>\n",
       "      <th>aged_65_older</th>\n",
       "      <th>aged_70_older</th>\n",
       "      <th>gdp_per_capita</th>\n",
       "      <th>extreme_poverty</th>\n",
       "      <th>cardiovasc_death_rate</th>\n",
       "      <th>diabetes_prevalence</th>\n",
       "      <th>female_smokers</th>\n",
       "      <th>male_smokers</th>\n",
       "      <th>handwashing_facilities</th>\n",
       "      <th>population</th>\n",
       "      <th>year</th>\n",
       "      <th>total_smokers</th>\n",
       "    </tr>\n",
       "  </thead>\n",
       "  <tbody>\n",
       "    <tr>\n",
       "      <th>count</th>\n",
       "      <td>319640</td>\n",
       "      <td>3.196400e+05</td>\n",
       "      <td>3.196400e+05</td>\n",
       "      <td>3.196400e+05</td>\n",
       "      <td>3.196400e+05</td>\n",
       "      <td>319640.000000</td>\n",
       "      <td>319640.000000</td>\n",
       "      <td>319640.000000</td>\n",
       "      <td>319640.000000</td>\n",
       "      <td>319640.000000</td>\n",
       "      <td>319640.000000</td>\n",
       "      <td>319640.000000</td>\n",
       "      <td>319640.000000</td>\n",
       "      <td>319640.000000</td>\n",
       "      <td>3.196400e+05</td>\n",
       "      <td>319640.000000</td>\n",
       "      <td>3.196400e+05</td>\n",
       "      <td>319640.000000</td>\n",
       "      <td>319640.000000</td>\n",
       "      <td>319640.000000</td>\n",
       "      <td>319640.000000</td>\n",
       "      <td>319640.000000</td>\n",
       "      <td>319640.000000</td>\n",
       "      <td>319640.000000</td>\n",
       "      <td>319640.000000</td>\n",
       "      <td>319640.000000</td>\n",
       "      <td>319640.000000</td>\n",
       "      <td>319640.000000</td>\n",
       "      <td>319640.000000</td>\n",
       "      <td>3.196400e+05</td>\n",
       "      <td>319640.000000</td>\n",
       "      <td>319640.000000</td>\n",
       "    </tr>\n",
       "    <tr>\n",
       "      <th>mean</th>\n",
       "      <td>2021-11-23 23:10:13.950694144</td>\n",
       "      <td>7.104964e+06</td>\n",
       "      <td>8.637242e+03</td>\n",
       "      <td>9.114030e+03</td>\n",
       "      <td>8.581091e+04</td>\n",
       "      <td>82.153832</td>\n",
       "      <td>85.081577</td>\n",
       "      <td>85665.190019</td>\n",
       "      <td>70.618979</td>\n",
       "      <td>85.417138</td>\n",
       "      <td>714.003448</td>\n",
       "      <td>0.481066</td>\n",
       "      <td>0.590283</td>\n",
       "      <td>0.939602</td>\n",
       "      <td>1.776251e+05</td>\n",
       "      <td>1800.586876</td>\n",
       "      <td>7.277906e+04</td>\n",
       "      <td>28.061930</td>\n",
       "      <td>297.104607</td>\n",
       "      <td>29.755190</td>\n",
       "      <td>8.257814</td>\n",
       "      <td>5.163531</td>\n",
       "      <td>18462.279511</td>\n",
       "      <td>13.675594</td>\n",
       "      <td>265.661446</td>\n",
       "      <td>8.734022</td>\n",
       "      <td>10.812613</td>\n",
       "      <td>31.914936</td>\n",
       "      <td>49.180903</td>\n",
       "      <td>1.401330e+08</td>\n",
       "      <td>2021.409326</td>\n",
       "      <td>42.727548</td>\n",
       "    </tr>\n",
       "    <tr>\n",
       "      <th>min</th>\n",
       "      <td>2020-01-08 00:00:00</td>\n",
       "      <td>1.000000e+00</td>\n",
       "      <td>0.000000e+00</td>\n",
       "      <td>0.000000e+00</td>\n",
       "      <td>1.000000e+00</td>\n",
       "      <td>0.000000</td>\n",
       "      <td>0.000000</td>\n",
       "      <td>0.000000</td>\n",
       "      <td>0.000000</td>\n",
       "      <td>0.000000</td>\n",
       "      <td>0.000000</td>\n",
       "      <td>0.000000</td>\n",
       "      <td>0.000000</td>\n",
       "      <td>-0.070000</td>\n",
       "      <td>0.000000e+00</td>\n",
       "      <td>0.000000</td>\n",
       "      <td>0.000000e+00</td>\n",
       "      <td>0.000000</td>\n",
       "      <td>0.137000</td>\n",
       "      <td>15.100000</td>\n",
       "      <td>1.144000</td>\n",
       "      <td>0.526000</td>\n",
       "      <td>661.240000</td>\n",
       "      <td>0.100000</td>\n",
       "      <td>79.370000</td>\n",
       "      <td>0.990000</td>\n",
       "      <td>0.100000</td>\n",
       "      <td>7.700000</td>\n",
       "      <td>1.188000</td>\n",
       "      <td>4.700000e+01</td>\n",
       "      <td>2020.000000</td>\n",
       "      <td>8.000000</td>\n",
       "    </tr>\n",
       "    <tr>\n",
       "      <th>25%</th>\n",
       "      <td>2020-12-03 00:00:00</td>\n",
       "      <td>7.698000e+03</td>\n",
       "      <td>0.000000e+00</td>\n",
       "      <td>1.430000e-01</td>\n",
       "      <td>1.160000e+02</td>\n",
       "      <td>0.000000</td>\n",
       "      <td>0.000000</td>\n",
       "      <td>2377.745000</td>\n",
       "      <td>0.000000</td>\n",
       "      <td>0.016000</td>\n",
       "      <td>53.181000</td>\n",
       "      <td>0.000000</td>\n",
       "      <td>0.000000</td>\n",
       "      <td>0.630000</td>\n",
       "      <td>2.343624e+02</td>\n",
       "      <td>70.085269</td>\n",
       "      <td>9.200000e+01</td>\n",
       "      <td>6.359271</td>\n",
       "      <td>42.729000</td>\n",
       "      <td>22.200000</td>\n",
       "      <td>3.607000</td>\n",
       "      <td>2.162000</td>\n",
       "      <td>4541.795000</td>\n",
       "      <td>1.000000</td>\n",
       "      <td>182.634000</td>\n",
       "      <td>5.500000</td>\n",
       "      <td>2.800000</td>\n",
       "      <td>23.000000</td>\n",
       "      <td>23.673584</td>\n",
       "      <td>5.237980e+05</td>\n",
       "      <td>2020.000000</td>\n",
       "      <td>29.500000</td>\n",
       "    </tr>\n",
       "    <tr>\n",
       "      <th>50%</th>\n",
       "      <td>2021-11-13 00:00:00</td>\n",
       "      <td>6.596850e+04</td>\n",
       "      <td>1.000000e+00</td>\n",
       "      <td>1.928600e+01</td>\n",
       "      <td>1.053000e+03</td>\n",
       "      <td>0.000000</td>\n",
       "      <td>0.143000</td>\n",
       "      <td>22321.496000</td>\n",
       "      <td>0.088000</td>\n",
       "      <td>4.653000</td>\n",
       "      <td>296.567021</td>\n",
       "      <td>0.000000</td>\n",
       "      <td>0.004000</td>\n",
       "      <td>0.941062</td>\n",
       "      <td>1.501000e+03</td>\n",
       "      <td>377.374149</td>\n",
       "      <td>6.230000e+02</td>\n",
       "      <td>17.687062</td>\n",
       "      <td>96.254000</td>\n",
       "      <td>29.100000</td>\n",
       "      <td>6.123637</td>\n",
       "      <td>3.519000</td>\n",
       "      <td>11840.846000</td>\n",
       "      <td>3.600000</td>\n",
       "      <td>245.465000</td>\n",
       "      <td>7.394433</td>\n",
       "      <td>7.554208</td>\n",
       "      <td>31.182499</td>\n",
       "      <td>47.964000</td>\n",
       "      <td>6.630621e+06</td>\n",
       "      <td>2021.000000</td>\n",
       "      <td>42.800000</td>\n",
       "    </tr>\n",
       "    <tr>\n",
       "      <th>75%</th>\n",
       "      <td>2022-11-09 00:00:00</td>\n",
       "      <td>7.222175e+05</td>\n",
       "      <td>2.240000e+02</td>\n",
       "      <td>4.142860e+02</td>\n",
       "      <td>1.029402e+04</td>\n",
       "      <td>2.000000</td>\n",
       "      <td>4.286000</td>\n",
       "      <td>110945.340750</td>\n",
       "      <td>27.495000</td>\n",
       "      <td>62.743000</td>\n",
       "      <td>1087.222000</td>\n",
       "      <td>0.123000</td>\n",
       "      <td>0.434000</td>\n",
       "      <td>1.170000</td>\n",
       "      <td>1.298200e+04</td>\n",
       "      <td>1634.000000</td>\n",
       "      <td>4.597207e+03</td>\n",
       "      <td>47.220000</td>\n",
       "      <td>227.322000</td>\n",
       "      <td>37.300000</td>\n",
       "      <td>11.733000</td>\n",
       "      <td>7.359000</td>\n",
       "      <td>26382.287000</td>\n",
       "      <td>21.400000</td>\n",
       "      <td>331.430000</td>\n",
       "      <td>11.280000</td>\n",
       "      <td>17.291619</td>\n",
       "      <td>39.300000</td>\n",
       "      <td>76.345598</td>\n",
       "      <td>3.296952e+07</td>\n",
       "      <td>2022.000000</td>\n",
       "      <td>53.500464</td>\n",
       "    </tr>\n",
       "    <tr>\n",
       "      <th>max</th>\n",
       "      <td>2023-11-08 00:00:00</td>\n",
       "      <td>7.718202e+08</td>\n",
       "      <td>8.401960e+06</td>\n",
       "      <td>6.402036e+06</td>\n",
       "      <td>6.978162e+06</td>\n",
       "      <td>27939.000000</td>\n",
       "      <td>14821.857000</td>\n",
       "      <td>551911.174604</td>\n",
       "      <td>3614.534000</td>\n",
       "      <td>1930.549000</td>\n",
       "      <td>4024.494000</td>\n",
       "      <td>16.081000</td>\n",
       "      <td>9.154000</td>\n",
       "      <td>5.870000</td>\n",
       "      <td>4.369164e+07</td>\n",
       "      <td>117113.000000</td>\n",
       "      <td>2.107127e+07</td>\n",
       "      <td>100.000000</td>\n",
       "      <td>19347.500000</td>\n",
       "      <td>48.200000</td>\n",
       "      <td>27.049000</td>\n",
       "      <td>18.493000</td>\n",
       "      <td>116935.600000</td>\n",
       "      <td>77.600000</td>\n",
       "      <td>724.417000</td>\n",
       "      <td>30.530000</td>\n",
       "      <td>44.000000</td>\n",
       "      <td>78.100000</td>\n",
       "      <td>100.000000</td>\n",
       "      <td>7.975105e+09</td>\n",
       "      <td>2023.000000</td>\n",
       "      <td>94.800000</td>\n",
       "    </tr>\n",
       "    <tr>\n",
       "      <th>std</th>\n",
       "      <td>NaN</td>\n",
       "      <td>4.209532e+07</td>\n",
       "      <td>9.471927e+04</td>\n",
       "      <td>8.633834e+04</td>\n",
       "      <td>4.374832e+05</td>\n",
       "      <td>595.155667</td>\n",
       "      <td>567.160831</td>\n",
       "      <td>128241.735136</td>\n",
       "      <td>236.644638</td>\n",
       "      <td>213.211307</td>\n",
       "      <td>890.493343</td>\n",
       "      <td>1.439362</td>\n",
       "      <td>1.358832</td>\n",
       "      <td>0.529644</td>\n",
       "      <td>1.507537e+06</td>\n",
       "      <td>4849.247260</td>\n",
       "      <td>6.339617e+05</td>\n",
       "      <td>25.953216</td>\n",
       "      <td>1348.965423</td>\n",
       "      <td>8.600291</td>\n",
       "      <td>5.669462</td>\n",
       "      <td>3.870032</td>\n",
       "      <td>19065.051264</td>\n",
       "      <td>18.378621</td>\n",
       "      <td>115.474531</td>\n",
       "      <td>4.979278</td>\n",
       "      <td>9.479804</td>\n",
       "      <td>12.299012</td>\n",
       "      <td>28.849010</td>\n",
       "      <td>6.928608e+08</td>\n",
       "      <td>1.099734</td>\n",
       "      <td>17.264998</td>\n",
       "    </tr>\n",
       "  </tbody>\n",
       "</table>\n",
       "</div>"
      ],
      "text/plain": [
       "                                date   total_cases     new_cases  \\\n",
       "count                         319640  3.196400e+05  3.196400e+05   \n",
       "mean   2021-11-23 23:10:13.950694144  7.104964e+06  8.637242e+03   \n",
       "min              2020-01-08 00:00:00  1.000000e+00  0.000000e+00   \n",
       "25%              2020-12-03 00:00:00  7.698000e+03  0.000000e+00   \n",
       "50%              2021-11-13 00:00:00  6.596850e+04  1.000000e+00   \n",
       "75%              2022-11-09 00:00:00  7.222175e+05  2.240000e+02   \n",
       "max              2023-11-08 00:00:00  7.718202e+08  8.401960e+06   \n",
       "std                              NaN  4.209532e+07  9.471927e+04   \n",
       "\n",
       "       new_cases_smoothed  total_deaths     new_deaths  new_deaths_smoothed  \\\n",
       "count        3.196400e+05  3.196400e+05  319640.000000        319640.000000   \n",
       "mean         9.114030e+03  8.581091e+04      82.153832            85.081577   \n",
       "min          0.000000e+00  1.000000e+00       0.000000             0.000000   \n",
       "25%          1.430000e-01  1.160000e+02       0.000000             0.000000   \n",
       "50%          1.928600e+01  1.053000e+03       0.000000             0.143000   \n",
       "75%          4.142860e+02  1.029402e+04       2.000000             4.286000   \n",
       "max          6.402036e+06  6.978162e+06   27939.000000         14821.857000   \n",
       "std          8.633834e+04  4.374832e+05     595.155667           567.160831   \n",
       "\n",
       "       total_cases_per_million  new_cases_per_million  \\\n",
       "count            319640.000000          319640.000000   \n",
       "mean              85665.190019              70.618979   \n",
       "min                   0.000000               0.000000   \n",
       "25%                2377.745000               0.000000   \n",
       "50%               22321.496000               0.088000   \n",
       "75%              110945.340750              27.495000   \n",
       "max              551911.174604            3614.534000   \n",
       "std              128241.735136             236.644638   \n",
       "\n",
       "       new_cases_smoothed_per_million  total_deaths_per_million  \\\n",
       "count                   319640.000000             319640.000000   \n",
       "mean                        85.417138                714.003448   \n",
       "min                          0.000000                  0.000000   \n",
       "25%                          0.016000                 53.181000   \n",
       "50%                          4.653000                296.567021   \n",
       "75%                         62.743000               1087.222000   \n",
       "max                       1930.549000               4024.494000   \n",
       "std                        213.211307                890.493343   \n",
       "\n",
       "       new_deaths_per_million  new_deaths_smoothed_per_million  \\\n",
       "count           319640.000000                    319640.000000   \n",
       "mean                 0.481066                         0.590283   \n",
       "min                  0.000000                         0.000000   \n",
       "25%                  0.000000                         0.000000   \n",
       "50%                  0.000000                         0.004000   \n",
       "75%                  0.123000                         0.434000   \n",
       "max                 16.081000                         9.154000   \n",
       "std                  1.439362                         1.358832   \n",
       "\n",
       "       reproduction_rate  new_vaccinations_smoothed  \\\n",
       "count      319640.000000               3.196400e+05   \n",
       "mean            0.939602               1.776251e+05   \n",
       "min            -0.070000               0.000000e+00   \n",
       "25%             0.630000               2.343624e+02   \n",
       "50%             0.941062               1.501000e+03   \n",
       "75%             1.170000               1.298200e+04   \n",
       "max             5.870000               4.369164e+07   \n",
       "std             0.529644               1.507537e+06   \n",
       "\n",
       "       new_vaccinations_smoothed_per_million  new_people_vaccinated_smoothed  \\\n",
       "count                          319640.000000                    3.196400e+05   \n",
       "mean                             1800.586876                    7.277906e+04   \n",
       "min                                 0.000000                    0.000000e+00   \n",
       "25%                                70.085269                    9.200000e+01   \n",
       "50%                               377.374149                    6.230000e+02   \n",
       "75%                              1634.000000                    4.597207e+03   \n",
       "max                            117113.000000                    2.107127e+07   \n",
       "std                              4849.247260                    6.339617e+05   \n",
       "\n",
       "       stringency_index  population_density     median_age  aged_65_older  \\\n",
       "count     319640.000000       319640.000000  319640.000000  319640.000000   \n",
       "mean          28.061930          297.104607      29.755190       8.257814   \n",
       "min            0.000000            0.137000      15.100000       1.144000   \n",
       "25%            6.359271           42.729000      22.200000       3.607000   \n",
       "50%           17.687062           96.254000      29.100000       6.123637   \n",
       "75%           47.220000          227.322000      37.300000      11.733000   \n",
       "max          100.000000        19347.500000      48.200000      27.049000   \n",
       "std           25.953216         1348.965423       8.600291       5.669462   \n",
       "\n",
       "       aged_70_older  gdp_per_capita  extreme_poverty  cardiovasc_death_rate  \\\n",
       "count  319640.000000   319640.000000    319640.000000          319640.000000   \n",
       "mean        5.163531    18462.279511        13.675594             265.661446   \n",
       "min         0.526000      661.240000         0.100000              79.370000   \n",
       "25%         2.162000     4541.795000         1.000000             182.634000   \n",
       "50%         3.519000    11840.846000         3.600000             245.465000   \n",
       "75%         7.359000    26382.287000        21.400000             331.430000   \n",
       "max        18.493000   116935.600000        77.600000             724.417000   \n",
       "std         3.870032    19065.051264        18.378621             115.474531   \n",
       "\n",
       "       diabetes_prevalence  female_smokers   male_smokers  \\\n",
       "count        319640.000000   319640.000000  319640.000000   \n",
       "mean              8.734022       10.812613      31.914936   \n",
       "min               0.990000        0.100000       7.700000   \n",
       "25%               5.500000        2.800000      23.000000   \n",
       "50%               7.394433        7.554208      31.182499   \n",
       "75%              11.280000       17.291619      39.300000   \n",
       "max              30.530000       44.000000      78.100000   \n",
       "std               4.979278        9.479804      12.299012   \n",
       "\n",
       "       handwashing_facilities    population           year  total_smokers  \n",
       "count           319640.000000  3.196400e+05  319640.000000  319640.000000  \n",
       "mean                49.180903  1.401330e+08    2021.409326      42.727548  \n",
       "min                  1.188000  4.700000e+01    2020.000000       8.000000  \n",
       "25%                 23.673584  5.237980e+05    2020.000000      29.500000  \n",
       "50%                 47.964000  6.630621e+06    2021.000000      42.800000  \n",
       "75%                 76.345598  3.296952e+07    2022.000000      53.500464  \n",
       "max                100.000000  7.975105e+09    2023.000000      94.800000  \n",
       "std                 28.849010  6.928608e+08       1.099734      17.264998  "
      ]
     },
     "execution_count": 20,
     "metadata": {},
     "output_type": "execute_result"
    }
   ],
   "source": [
    "df.describe()"
   ]
  },
  {
   "cell_type": "code",
   "execution_count": 21,
   "metadata": {},
   "outputs": [
    {
     "data": {
      "text/html": [
       "<div>\n",
       "<style scoped>\n",
       "    .dataframe tbody tr th:only-of-type {\n",
       "        vertical-align: middle;\n",
       "    }\n",
       "\n",
       "    .dataframe tbody tr th {\n",
       "        vertical-align: top;\n",
       "    }\n",
       "\n",
       "    .dataframe thead th {\n",
       "        text-align: right;\n",
       "    }\n",
       "</style>\n",
       "<table border=\"1\" class=\"dataframe\">\n",
       "  <thead>\n",
       "    <tr style=\"text-align: right;\">\n",
       "      <th></th>\n",
       "      <th>iso_code</th>\n",
       "      <th>continent</th>\n",
       "      <th>location</th>\n",
       "      <th>month</th>\n",
       "    </tr>\n",
       "  </thead>\n",
       "  <tbody>\n",
       "    <tr>\n",
       "      <th>count</th>\n",
       "      <td>319640</td>\n",
       "      <td>319640</td>\n",
       "      <td>319640</td>\n",
       "      <td>319640</td>\n",
       "    </tr>\n",
       "    <tr>\n",
       "      <th>unique</th>\n",
       "      <td>246</td>\n",
       "      <td>7</td>\n",
       "      <td>246</td>\n",
       "      <td>12</td>\n",
       "    </tr>\n",
       "    <tr>\n",
       "      <th>top</th>\n",
       "      <td>AFG</td>\n",
       "      <td>Africa</td>\n",
       "      <td>Afghanistan</td>\n",
       "      <td>May</td>\n",
       "    </tr>\n",
       "    <tr>\n",
       "      <th>freq</th>\n",
       "      <td>1401</td>\n",
       "      <td>79305</td>\n",
       "      <td>1401</td>\n",
       "      <td>28807</td>\n",
       "    </tr>\n",
       "  </tbody>\n",
       "</table>\n",
       "</div>"
      ],
      "text/plain": [
       "       iso_code continent     location   month\n",
       "count    319640    319640       319640  319640\n",
       "unique      246         7          246      12\n",
       "top         AFG    Africa  Afghanistan     May\n",
       "freq       1401     79305         1401   28807"
      ]
     },
     "execution_count": 21,
     "metadata": {},
     "output_type": "execute_result"
    }
   ],
   "source": [
    "df.describe(include=['object'])"
   ]
  },
  {
   "cell_type": "markdown",
   "metadata": {},
   "source": [
    "<h3><b>3- Data Visualization"
   ]
  },
  {
   "cell_type": "code",
   "execution_count": 22,
   "metadata": {},
   "outputs": [
    {
     "data": {
      "image/png": "[encoded data removed]",
      "text/plain": [
       "<Figure size 2000x2000 with 2 Axes>"
      ]
     },
     "metadata": {},
     "output_type": "display_data"
    }
   ],
   "source": [
    "plt.figure(figsize=(20,20))\n",
    "sns.heatmap(df.corr(numeric_only=True), annot=False, cmap='crest')\n",
    "plt.show()"
   ]
  },
  {
   "cell_type": "code",
   "execution_count": 23,
   "metadata": {},
   "outputs": [
    {
     "data": {
      "image/png": "[encoded data removed]",
      "text/plain": [
       "<Figure size 900x900 with 1 Axes>"
      ]
     },
     "metadata": {},
     "output_type": "display_data"
    }
   ],
   "source": [
    "plt.figure(figsize=(9,9))\n",
    "sns.lineplot(x='date',\n",
    "             y='new_cases_smoothed',\n",
    "            data=df[df['location'] == 'World'])\n",
    "\n",
    "plt.show()"
   ]
  },
  {
   "cell_type": "code",
   "execution_count": 24,
   "metadata": {},
   "outputs": [
    {
     "data": {
      "image/png": "[encoded data removed]",
      "text/plain": [
       "<Figure size 640x480 with 1 Axes>"
      ]
     },
     "metadata": {},
     "output_type": "display_data"
    }
   ],
   "source": [
    "ax = sns.violinplot(x=df_with_outlier['year'], y=df_with_outlier['new_cases_per_million'])\n",
    "plt.title(\"Violin plot with outlier records\")\n",
    "plt.show()"
   ]
  },
  {
   "cell_type": "code",
   "execution_count": 25,
   "metadata": {},
   "outputs": [
    {
     "data": {
      "image/png": "[encoded data removed]",
      "text/plain": [
       "<Figure size 640x480 with 1 Axes>"
      ]
     },
     "metadata": {},
     "output_type": "display_data"
    }
   ],
   "source": [
    "ax = sns.violinplot(x=df['year'], y=df['new_cases_per_million'])\n",
    "plt.title(\"Violin plot without outlier records\")\n",
    "plt.show()"
   ]
  },
  {
   "cell_type": "code",
   "execution_count": 26,
   "metadata": {},
   "outputs": [
    {
     "data": {
      "image/png": "[encoded data removed]",
      "text/plain": [
       "<Figure size 640x480 with 1 Axes>"
      ]
     },
     "metadata": {},
     "output_type": "display_data"
    }
   ],
   "source": [
    "ax = sns.scatterplot(y='total_deaths',\n",
    "                x='total_cases',\n",
    "                hue='year',\n",
    "                palette='rocket',\n",
    "                data=df[df['location'] == 'World'])\n",
    "ax.set_title('Total Deaths vs Total Cases')\n",
    "plt.show()"
   ]
  },
  {
   "cell_type": "code",
   "execution_count": 27,
   "metadata": {},
   "outputs": [
    {
     "name": "stdout",
     "output_type": "stream",
     "text": [
      "    year      month  new_cases_per_million\n",
      "4   2020    January                 46.721\n",
      "3   2020   February                356.521\n",
      "7   2020      March              47482.723\n",
      "0   2020      April              87252.942\n",
      "8   2020        May             109903.525\n",
      "6   2020       June             149082.517\n",
      "5   2020       July             197254.379\n",
      "1   2020     August             271752.062\n",
      "11  2020  September             307504.890\n",
      "10  2020    October             520503.049\n",
      "9   2020   November             547215.471\n",
      "2   2020   December             566795.703\n",
      "16  2021    January             586459.939\n",
      "15  2021   February             463346.453\n",
      "19  2021      March             623585.771\n",
      "12  2021      April             646238.485\n",
      "20  2021        May             505180.413\n",
      "18  2021       June             379936.364\n",
      "17  2021       July             639216.161\n",
      "13  2021     August             874015.720\n",
      "23  2021  September             804409.309\n",
      "22  2021    October             727025.949\n",
      "21  2021   November             849229.405\n",
      "14  2021   December            1135078.711\n",
      "28  2022    January            1776095.853\n",
      "27  2022   February            1405142.387\n",
      "31  2022      March            1195627.217\n",
      "24  2022      April             884811.306\n",
      "32  2022        May             846670.737\n",
      "30  2022       June             834568.976\n",
      "29  2022       July            1050399.986\n",
      "25  2022     August             837247.980\n",
      "35  2022  September             512481.477\n",
      "34  2022    October             408358.791\n",
      "33  2022   November             386940.357\n",
      "26  2022   December             462167.988\n",
      "39  2023    January             256865.146\n",
      "38  2023   February             123820.565\n",
      "42  2023      March             137170.249\n",
      "36  2023      April              99753.514\n",
      "43  2023        May              92885.273\n",
      "41  2023       June              44571.458\n",
      "40  2023       July              44145.940\n",
      "37  2023     August              38533.203\n",
      "46  2023  September              45061.174\n",
      "45  2023    October              49195.029\n",
      "44  2023   November               1262.733\n"
     ]
    }
   ],
   "source": [
    "grouped_df = df[['year', 'month', 'new_cases_per_million']].groupby(['year', 'month']).sum().reset_index()\n",
    "\n",
    "months_order = ['January', 'February', 'March', 'April', 'May', 'June', 'July', 'August', 'September', 'October', 'November', 'December']\n",
    "\n",
    "grouped_df['month'] = pd.Categorical(grouped_df['month'], categories=months_order, ordered=True)\n",
    "grouped_df = grouped_df.sort_values(by=['year', 'month'])\n",
    "\n",
    "print(grouped_df)"
   ]
  },
  {
   "cell_type": "code",
   "execution_count": 28,
   "metadata": {},
   "outputs": [
    {
     "data": {
      "text/plain": [
       "Text(0.5, 1.0, 'Heatmap of new cases by Year and Month')"
      ]
     },
     "execution_count": 28,
     "metadata": {},
     "output_type": "execute_result"
    },
    {
     "data": {
      "image/png": "[encoded data removed]",
      "text/plain": [
       "<Figure size 1000x600 with 2 Axes>"
      ]
     },
     "metadata": {},
     "output_type": "display_data"
    }
   ],
   "source": [
    "heatmap_data = grouped_df.pivot(index='year', columns='month', values='new_cases_per_million')\n",
    "\n",
    "plt.figure(figsize=(10, 6))\n",
    "sns.heatmap(heatmap_data, annot=False, cbar_kws={'label': 'new cases per million'})\n",
    "\n",
    "# Set the title\n",
    "plt.title('Heatmap of new cases by Year and Month')"
   ]
  },
  {
   "cell_type": "code",
   "execution_count": 29,
   "metadata": {},
   "outputs": [
    {
     "name": "stdout",
     "output_type": "stream",
     "text": [
      "              location  total deaths\n",
      "0          Afghanistan        7956.0\n",
      "1              Albania        3604.0\n",
      "2              Algeria        6881.0\n",
      "3       American Samoa           0.0\n",
      "4              Andorra          59.0\n",
      "..                 ...           ...\n",
      "229            Vietnam       42022.0\n",
      "230  Wallis and Futuna           0.0\n",
      "231              Yemen        2159.0\n",
      "232             Zambia        4069.0\n",
      "233           Zimbabwe        5724.0\n",
      "\n",
      "[234 rows x 2 columns]\n"
     ]
    }
   ],
   "source": [
    "grouped_df = df[['location', 'new_deaths', 'continent']]\n",
    "grouped_df = grouped_df[grouped_df['continent'] != 'Unknown'].groupby(['location']).sum(numeric_only=True).reset_index()\n",
    "grouped_df.rename(columns={'new_deaths': 'total deaths'}, inplace=True)\n",
    "\n",
    "print(grouped_df)"
   ]
  },
  {
   "cell_type": "code",
   "execution_count": 30,
   "metadata": {},
   "outputs": [
    {
     "data": {
      "text/html": [
       "<div>\n",
       "<style scoped>\n",
       "    .dataframe tbody tr th:only-of-type {\n",
       "        vertical-align: middle;\n",
       "    }\n",
       "\n",
       "    .dataframe tbody tr th {\n",
       "        vertical-align: top;\n",
       "    }\n",
       "\n",
       "    .dataframe thead th {\n",
       "        text-align: right;\n",
       "    }\n",
       "</style>\n",
       "<table border=\"1\" class=\"dataframe\">\n",
       "  <thead>\n",
       "    <tr style=\"text-align: right;\">\n",
       "      <th></th>\n",
       "      <th>location</th>\n",
       "      <th>total deaths</th>\n",
       "    </tr>\n",
       "  </thead>\n",
       "  <tbody>\n",
       "    <tr>\n",
       "      <th>0</th>\n",
       "      <td>San Marino</td>\n",
       "      <td>0.0</td>\n",
       "    </tr>\n",
       "    <tr>\n",
       "      <th>1</th>\n",
       "      <td>Nauru</td>\n",
       "      <td>0.0</td>\n",
       "    </tr>\n",
       "    <tr>\n",
       "      <th>2</th>\n",
       "      <td>Tuvalu</td>\n",
       "      <td>0.0</td>\n",
       "    </tr>\n",
       "    <tr>\n",
       "      <th>3</th>\n",
       "      <td>British Virgin Islands</td>\n",
       "      <td>0.0</td>\n",
       "    </tr>\n",
       "    <tr>\n",
       "      <th>4</th>\n",
       "      <td>Montserrat</td>\n",
       "      <td>0.0</td>\n",
       "    </tr>\n",
       "    <tr>\n",
       "      <th>...</th>\n",
       "      <td>...</td>\n",
       "      <td>...</td>\n",
       "    </tr>\n",
       "    <tr>\n",
       "      <th>229</th>\n",
       "      <td>Mexico</td>\n",
       "      <td>302016.0</td>\n",
       "    </tr>\n",
       "    <tr>\n",
       "      <th>230</th>\n",
       "      <td>Russia</td>\n",
       "      <td>400256.0</td>\n",
       "    </tr>\n",
       "    <tr>\n",
       "      <th>231</th>\n",
       "      <td>India</td>\n",
       "      <td>533293.0</td>\n",
       "    </tr>\n",
       "    <tr>\n",
       "      <th>232</th>\n",
       "      <td>Brazil</td>\n",
       "      <td>542316.0</td>\n",
       "    </tr>\n",
       "    <tr>\n",
       "      <th>233</th>\n",
       "      <td>United States</td>\n",
       "      <td>1016070.0</td>\n",
       "    </tr>\n",
       "  </tbody>\n",
       "</table>\n",
       "<p>234 rows × 2 columns</p>\n",
       "</div>"
      ],
      "text/plain": [
       "                   location  total deaths\n",
       "0                San Marino           0.0\n",
       "1                     Nauru           0.0\n",
       "2                    Tuvalu           0.0\n",
       "3    British Virgin Islands           0.0\n",
       "4                Montserrat           0.0\n",
       "..                      ...           ...\n",
       "229                  Mexico      302016.0\n",
       "230                  Russia      400256.0\n",
       "231                   India      533293.0\n",
       "232                  Brazil      542316.0\n",
       "233           United States     1016070.0\n",
       "\n",
       "[234 rows x 2 columns]"
      ]
     },
     "execution_count": 30,
     "metadata": {},
     "output_type": "execute_result"
    }
   ],
   "source": [
    "grouped_df.sort_values(by=['total deaths']).reset_index(drop=True)"
   ]
  },
  {
   "cell_type": "code",
   "execution_count": 31,
   "metadata": {},
   "outputs": [
    {
     "data": {
      "application/vnd.plotly.v1+json": {
       "config": {
        "plotlyServerURL": "https://plot.ly"
       },
       "data": [
        {
         "coloraxis": "coloraxis",
         "geo": "geo",
         "hovertemplate": "location=%{location}<br>total deaths=%{z}<extra></extra>",
         "locationmode": "country names",
         "locations": [
          "Afghanistan",
          "Albania",
          "Algeria",
          "American Samoa",
          "Andorra",
          "Angola",
          "Anguilla",
          "Antigua and Barbuda",
          "Argentina",
          "Armenia",
          "Aruba",
          "Australia",
          "Austria",
          "Azerbaijan",
          "Bahamas",
          "Bahrain",
          "Bangladesh",
          "Barbados",
          "Belarus",
          "Belgium",
          "Belize",
          "Benin",
          "Bermuda",
          "Bhutan",
          "Bolivia",
          "Bonaire Sint Eustatius and Saba",
          "Bosnia and Herzegovina",
          "Botswana",
          "Brazil",
          "British Virgin Islands",
          "Brunei",
          "Bulgaria",
          "Burkina Faso",
          "Burundi",
          "Cambodia",
          "Cameroon",
          "Canada",
          "Cape Verde",
          "Cayman Islands",
          "Central African Republic",
          "Chad",
          "Chile",
          "China",
          "Colombia",
          "Comoros",
          "Congo",
          "Cook Islands",
          "Costa Rica",
          "Cote d'Ivoire",
          "Croatia",
          "Cuba",
          "Curacao",
          "Cyprus",
          "Czechia",
          "Democratic Republic of Congo",
          "Denmark",
          "Djibouti",
          "Dominica",
          "Dominican Republic",
          "Ecuador",
          "Egypt",
          "El Salvador",
          "Equatorial Guinea",
          "Eritrea",
          "Estonia",
          "Eswatini",
          "Ethiopia",
          "Faeroe Islands",
          "Falkland Islands",
          "Fiji",
          "Finland",
          "France",
          "French Guiana",
          "French Polynesia",
          "Gabon",
          "Gambia",
          "Georgia",
          "Germany",
          "Ghana",
          "Gibraltar",
          "Greece",
          "Greenland",
          "Grenada",
          "Guadeloupe",
          "Guam",
          "Guatemala",
          "Guernsey",
          "Guinea",
          "Guinea-Bissau",
          "Guyana",
          "Haiti",
          "Honduras",
          "Hungary",
          "Iceland",
          "India",
          "Indonesia",
          "Iran",
          "Iraq",
          "Ireland",
          "Isle of Man",
          "Israel",
          "Italy",
          "Jamaica",
          "Japan",
          "Jersey",
          "Jordan",
          "Kazakhstan",
          "Kenya",
          "Kiribati",
          "Kosovo",
          "Kuwait",
          "Kyrgyzstan",
          "Laos",
          "Latvia",
          "Lebanon",
          "Lesotho",
          "Liberia",
          "Libya",
          "Liechtenstein",
          "Lithuania",
          "Luxembourg",
          "Madagascar",
          "Malawi",
          "Malaysia",
          "Maldives",
          "Mali",
          "Malta",
          "Marshall Islands",
          "Martinique",
          "Mauritania",
          "Mauritius",
          "Mayotte",
          "Mexico",
          "Micronesia (country)",
          "Moldova",
          "Monaco",
          "Mongolia",
          "Montenegro",
          "Montserrat",
          "Morocco",
          "Mozambique",
          "Myanmar",
          "Namibia",
          "Nauru",
          "Nepal",
          "Netherlands",
          "New Caledonia",
          "New Zealand",
          "Nicaragua",
          "Niger",
          "Nigeria",
          "Niue",
          "North Korea",
          "North Macedonia",
          "Northern Mariana Islands",
          "Norway",
          "Oman",
          "Pakistan",
          "Palau",
          "Palestine",
          "Panama",
          "Papua New Guinea",
          "Paraguay",
          "Peru",
          "Philippines",
          "Pitcairn",
          "Poland",
          "Portugal",
          "Puerto Rico",
          "Qatar",
          "Reunion",
          "Romania",
          "Russia",
          "Rwanda",
          "Saint Barthelemy",
          "Saint Helena",
          "Saint Kitts and Nevis",
          "Saint Lucia",
          "Saint Martin (French part)",
          "Saint Pierre and Miquelon",
          "Saint Vincent and the Grenadines",
          "Samoa",
          "San Marino",
          "Sao Tome and Principe",
          "Saudi Arabia",
          "Senegal",
          "Serbia",
          "Seychelles",
          "Sierra Leone",
          "Singapore",
          "Sint Maarten (Dutch part)",
          "Slovakia",
          "Slovenia",
          "Solomon Islands",
          "Somalia",
          "South Africa",
          "South Korea",
          "South Sudan",
          "Spain",
          "Sri Lanka",
          "Sudan",
          "Suriname",
          "Sweden",
          "Switzerland",
          "Syria",
          "Tajikistan",
          "Tanzania",
          "Thailand",
          "Timor",
          "Togo",
          "Tokelau",
          "Tonga",
          "Trinidad and Tobago",
          "Tunisia",
          "Turkey",
          "Turkmenistan",
          "Turks and Caicos Islands",
          "Tuvalu",
          "Uganda",
          "Ukraine",
          "United Arab Emirates",
          "United Kingdom",
          "United States",
          "United States Virgin Islands",
          "Uruguay",
          "Uzbekistan",
          "Vanuatu",
          "Vatican",
          "Venezuela",
          "Vietnam",
          "Wallis and Futuna",
          "Yemen",
          "Zambia",
          "Zimbabwe"
         ],
         "name": "",
         "type": "choropleth",
         "z": [
          7956,
          3604,
          6881,
          0,
          59,
          1936,
          0,
          43,
          91270,
          5603,
          93,
          19604,
          13329,
          10356,
          390,
          1080,
          29483,
          348,
          7118,
          20305,
          458,
          163,
          51,
          18,
          20103,
          0,
          4223,
          1526,
          542316,
          0,
          80,
          1494,
          396,
          15,
          3056,
          1974,
          53628,
          418,
          13,
          113,
          194,
          50129,
          94735,
          103539,
          161,
          389,
          0,
          9364,
          835,
          6551,
          8530,
          161,
          666,
          10919,
          1468,
          4720,
          189,
          16,
          4384,
          20587,
          24830,
          4230,
          112,
          103,
          728,
          1084,
          7574,
          0,
          0,
          479,
          10286,
          22680,
          317,
          126,
          307,
          259,
          5009,
          43351,
          1462,
          0,
          5469,
          0,
          42,
          186,
          211,
          20237,
          19,
          468,
          177,
          1271,
          860,
          11124,
          8773,
          36,
          533293,
          161918,
          146633,
          25375,
          7459,
          24,
          10969,
          139625,
          3563,
          74708,
          59,
          14122,
          9127,
          5689,
          9,
          2745,
          2570,
          1024,
          671,
          897,
          7696,
          709,
          295,
          6437,
          0,
          5410,
          190,
          1425,
          2685,
          31077,
          221,
          743,
          255,
          0,
          176,
          848,
          497,
          133,
          302016,
          7,
          8357,
          0,
          1674,
          107,
          0,
          16297,
          2249,
          19494,
          2092,
          0,
          12031,
          5169,
          39,
          2710,
          245,
          315,
          3155,
          0,
          0,
          475,
          0,
          3696,
          4222,
          30656,
          0,
          5708,
          7340,
          679,
          10737,
          24027,
          66741,
          0,
          73562,
          6985,
          5615,
          690,
          421,
          49863,
          400256,
          1468,
          0,
          0,
          0,
          139,
          0,
          0,
          42,
          21,
          0,
          72,
          9646,
          1971,
          16087,
          31,
          126,
          1613,
          0,
          7720,
          524,
          153,
          1361,
          99447,
          16352,
          138,
          34000,
          15256,
          4095,
          866,
          23421,
          8313,
          3163,
          125,
          846,
          34547,
          138,
          290,
          0,
          1,
          2846,
          22285,
          100925,
          0,
          0,
          0,
          2833,
          13906,
          2349,
          135372,
          1016070,
          85,
          2695,
          1016,
          14,
          0,
          5856,
          42022,
          0,
          2159,
          4069,
          5724
         ]
        }
       ],
       "layout": {
        "coloraxis": {
         "colorbar": {
          "title": {
           "text": "total deaths"
          }
         },
         "colorscale": [
          [
           0,
           "#0d0887"
          ],
          [
           0.1111111111111111,
           "#46039f"
          ],
          [
           0.2222222222222222,
           "#7201a8"
          ],
          [
           0.3333333333333333,
           "#9c179e"
          ],
          [
           0.4444444444444444,
           "#bd3786"
          ],
          [
           0.5555555555555556,
           "#d8576b"
          ],
          [
           0.6666666666666666,
           "#ed7953"
          ],
          [
           0.7777777777777778,
           "#fb9f3a"
          ],
          [
           0.8888888888888888,
           "#fdca26"
          ],
          [
           1,
           "#f0f921"
          ]
         ]
        },
        "geo": {
         "center": {},
         "domain": {
          "x": [
           0,
           1
          ],
          "y": [
           0,
           1
          ]
         }
        },
        "legend": {
         "tracegroupgap": 0
        },
        "template": {
         "data": {
          "bar": [
           {
            "error_x": {
             "color": "#2a3f5f"
            },
            "error_y": {
             "color": "#2a3f5f"
            },
            "marker": {
             "line": {
              "color": "#E5ECF6",
              "width": 0.5
             },
             "pattern": {
              "fillmode": "overlay",
              "size": 10,
              "solidity": 0.2
             }
            },
            "type": "bar"
           }
          ],
          "barpolar": [
           {
            "marker": {
             "line": {
              "color": "#E5ECF6",
              "width": 0.5
             },
             "pattern": {
              "fillmode": "overlay",
              "size": 10,
              "solidity": 0.2
             }
            },
            "type": "barpolar"
           }
          ],
          "carpet": [
           {
            "aaxis": {
             "endlinecolor": "#2a3f5f",
             "gridcolor": "white",
             "linecolor": "white",
             "minorgridcolor": "white",
             "startlinecolor": "#2a3f5f"
            },
            "baxis": {
             "endlinecolor": "#2a3f5f",
             "gridcolor": "white",
             "linecolor": "white",
             "minorgridcolor": "white",
             "startlinecolor": "#2a3f5f"
            },
            "type": "carpet"
           }
          ],
          "choropleth": [
           {
            "colorbar": {
             "outlinewidth": 0,
             "ticks": ""
            },
            "type": "choropleth"
           }
          ],
          "contour": [
           {
            "colorbar": {
             "outlinewidth": 0,
             "ticks": ""
            },
            "colorscale": [
             [
              0,
              "#0d0887"
             ],
             [
              0.1111111111111111,
              "#46039f"
             ],
             [
              0.2222222222222222,
              "#7201a8"
             ],
             [
              0.3333333333333333,
              "#9c179e"
             ],
             [
              0.4444444444444444,
              "#bd3786"
             ],
             [
              0.5555555555555556,
              "#d8576b"
             ],
             [
              0.6666666666666666,
              "#ed7953"
             ],
             [
              0.7777777777777778,
              "#fb9f3a"
             ],
             [
              0.8888888888888888,
              "#fdca26"
             ],
             [
              1,
              "#f0f921"
             ]
            ],
            "type": "contour"
           }
          ],
          "contourcarpet": [
           {
            "colorbar": {
             "outlinewidth": 0,
             "ticks": ""
            },
            "type": "contourcarpet"
           }
          ],
          "heatmap": [
           {
            "colorbar": {
             "outlinewidth": 0,
             "ticks": ""
            },
            "colorscale": [
             [
              0,
              "#0d0887"
             ],
             [
              0.1111111111111111,
              "#46039f"
             ],
             [
              0.2222222222222222,
              "#7201a8"
             ],
             [
              0.3333333333333333,
              "#9c179e"
             ],
             [
              0.4444444444444444,
              "#bd3786"
             ],
             [
              0.5555555555555556,
              "#d8576b"
             ],
             [
              0.6666666666666666,
              "#ed7953"
             ],
             [
              0.7777777777777778,
              "#fb9f3a"
             ],
             [
              0.8888888888888888,
              "#fdca26"
             ],
             [
              1,
              "#f0f921"
             ]
            ],
            "type": "heatmap"
           }
          ],
          "heatmapgl": [
           {
            "colorbar": {
             "outlinewidth": 0,
             "ticks": ""
            },
            "colorscale": [
             [
              0,
              "#0d0887"
             ],
             [
              0.1111111111111111,
              "#46039f"
             ],
             [
              0.2222222222222222,
              "#7201a8"
             ],
             [
              0.3333333333333333,
              "#9c179e"
             ],
             [
              0.4444444444444444,
              "#bd3786"
             ],
             [
              0.5555555555555556,
              "#d8576b"
             ],
             [
              0.6666666666666666,
              "#ed7953"
             ],
             [
              0.7777777777777778,
              "#fb9f3a"
             ],
             [
              0.8888888888888888,
              "#fdca26"
             ],
             [
              1,
              "#f0f921"
             ]
            ],
            "type": "heatmapgl"
           }
          ],
          "histogram": [
           {
            "marker": {
             "pattern": {
              "fillmode": "overlay",
              "size": 10,
              "solidity": 0.2
             }
            },
            "type": "histogram"
           }
          ],
          "histogram2d": [
           {
            "colorbar": {
             "outlinewidth": 0,
             "ticks": ""
            },
            "colorscale": [
             [
              0,
              "#0d0887"
             ],
             [
              0.1111111111111111,
              "#46039f"
             ],
             [
              0.2222222222222222,
              "#7201a8"
             ],
             [
              0.3333333333333333,
              "#9c179e"
             ],
             [
              0.4444444444444444,
              "#bd3786"
             ],
             [
              0.5555555555555556,
              "#d8576b"
             ],
             [
              0.6666666666666666,
              "#ed7953"
             ],
             [
              0.7777777777777778,
              "#fb9f3a"
             ],
             [
              0.8888888888888888,
              "#fdca26"
             ],
             [
              1,
              "#f0f921"
             ]
            ],
            "type": "histogram2d"
           }
          ],
          "histogram2dcontour": [
           {
            "colorbar": {
             "outlinewidth": 0,
             "ticks": ""
            },
            "colorscale": [
             [
              0,
              "#0d0887"
             ],
             [
              0.1111111111111111,
              "#46039f"
             ],
             [
              0.2222222222222222,
              "#7201a8"
             ],
             [
              0.3333333333333333,
              "#9c179e"
             ],
             [
              0.4444444444444444,
              "#bd3786"
             ],
             [
              0.5555555555555556,
              "#d8576b"
             ],
             [
              0.6666666666666666,
              "#ed7953"
             ],
             [
              0.7777777777777778,
              "#fb9f3a"
             ],
             [
              0.8888888888888888,
              "#fdca26"
             ],
             [
              1,
              "#f0f921"
             ]
            ],
            "type": "histogram2dcontour"
           }
          ],
          "mesh3d": [
           {
            "colorbar": {
             "outlinewidth": 0,
             "ticks": ""
            },
            "type": "mesh3d"
           }
          ],
          "parcoords": [
           {
            "line": {
             "colorbar": {
              "outlinewidth": 0,
              "ticks": ""
             }
            },
            "type": "parcoords"
           }
          ],
          "pie": [
           {
            "automargin": true,
            "type": "pie"
           }
          ],
          "scatter": [
           {
            "fillpattern": {
             "fillmode": "overlay",
             "size": 10,
             "solidity": 0.2
            },
            "type": "scatter"
           }
          ],
          "scatter3d": [
           {
            "line": {
             "colorbar": {
              "outlinewidth": 0,
              "ticks": ""
             }
            },
            "marker": {
             "colorbar": {
              "outlinewidth": 0,
              "ticks": ""
             }
            },
            "type": "scatter3d"
           }
          ],
          "scattercarpet": [
           {
            "marker": {
             "colorbar": {
              "outlinewidth": 0,
              "ticks": ""
             }
            },
            "type": "scattercarpet"
           }
          ],
          "scattergeo": [
           {
            "marker": {
             "colorbar": {
              "outlinewidth": 0,
              "ticks": ""
             }
            },
            "type": "scattergeo"
           }
          ],
          "scattergl": [
           {
            "marker": {
             "colorbar": {
              "outlinewidth": 0,
              "ticks": ""
             }
            },
            "type": "scattergl"
           }
          ],
          "scattermapbox": [
           {
            "marker": {
             "colorbar": {
              "outlinewidth": 0,
              "ticks": ""
             }
            },
            "type": "scattermapbox"
           }
          ],
          "scatterpolar": [
           {
            "marker": {
             "colorbar": {
              "outlinewidth": 0,
              "ticks": ""
             }
            },
            "type": "scatterpolar"
           }
          ],
          "scatterpolargl": [
           {
            "marker": {
             "colorbar": {
              "outlinewidth": 0,
              "ticks": ""
             }
            },
            "type": "scatterpolargl"
           }
          ],
          "scatterternary": [
           {
            "marker": {
             "colorbar": {
              "outlinewidth": 0,
              "ticks": ""
             }
            },
            "type": "scatterternary"
           }
          ],
          "surface": [
           {
            "colorbar": {
             "outlinewidth": 0,
             "ticks": ""
            },
            "colorscale": [
             [
              0,
              "#0d0887"
             ],
             [
              0.1111111111111111,
              "#46039f"
             ],
             [
              0.2222222222222222,
              "#7201a8"
             ],
             [
              0.3333333333333333,
              "#9c179e"
             ],
             [
              0.4444444444444444,
              "#bd3786"
             ],
             [
              0.5555555555555556,
              "#d8576b"
             ],
             [
              0.6666666666666666,
              "#ed7953"
             ],
             [
              0.7777777777777778,
              "#fb9f3a"
             ],
             [
              0.8888888888888888,
              "#fdca26"
             ],
             [
              1,
              "#f0f921"
             ]
            ],
            "type": "surface"
           }
          ],
          "table": [
           {
            "cells": {
             "fill": {
              "color": "#EBF0F8"
             },
             "line": {
              "color": "white"
             }
            },
            "header": {
             "fill": {
              "color": "#C8D4E3"
             },
             "line": {
              "color": "white"
             }
            },
            "type": "table"
           }
          ]
         },
         "layout": {
          "annotationdefaults": {
           "arrowcolor": "#2a3f5f",
           "arrowhead": 0,
           "arrowwidth": 1
          },
          "autotypenumbers": "strict",
          "coloraxis": {
           "colorbar": {
            "outlinewidth": 0,
            "ticks": ""
           }
          },
          "colorscale": {
           "diverging": [
            [
             0,
             "#8e0152"
            ],
            [
             0.1,
             "#c51b7d"
            ],
            [
             0.2,
             "#de77ae"
            ],
            [
             0.3,
             "#f1b6da"
            ],
            [
             0.4,
             "#fde0ef"
            ],
            [
             0.5,
             "#f7f7f7"
            ],
            [
             0.6,
             "#e6f5d0"
            ],
            [
             0.7,
             "#b8e186"
            ],
            [
             0.8,
             "#7fbc41"
            ],
            [
             0.9,
             "#4d9221"
            ],
            [
             1,
             "#276419"
            ]
           ],
           "sequential": [
            [
             0,
             "#0d0887"
            ],
            [
             0.1111111111111111,
             "#46039f"
            ],
            [
             0.2222222222222222,
             "#7201a8"
            ],
            [
             0.3333333333333333,
             "#9c179e"
            ],
            [
             0.4444444444444444,
             "#bd3786"
            ],
            [
             0.5555555555555556,
             "#d8576b"
            ],
            [
             0.6666666666666666,
             "#ed7953"
            ],
            [
             0.7777777777777778,
             "#fb9f3a"
            ],
            [
             0.8888888888888888,
             "#fdca26"
            ],
            [
             1,
             "#f0f921"
            ]
           ],
           "sequentialminus": [
            [
             0,
             "#0d0887"
            ],
            [
             0.1111111111111111,
             "#46039f"
            ],
            [
             0.2222222222222222,
             "#7201a8"
            ],
            [
             0.3333333333333333,
             "#9c179e"
            ],
            [
             0.4444444444444444,
             "#bd3786"
            ],
            [
             0.5555555555555556,
             "#d8576b"
            ],
            [
             0.6666666666666666,
             "#ed7953"
            ],
            [
             0.7777777777777778,
             "#fb9f3a"
            ],
            [
             0.8888888888888888,
             "#fdca26"
            ],
            [
             1,
             "#f0f921"
            ]
           ]
          },
          "colorway": [
           "#636efa",
           "#EF553B",
           "#00cc96",
           "#ab63fa",
           "#FFA15A",
           "#19d3f3",
           "#FF6692",
           "#B6E880",
           "#FF97FF",
           "#FECB52"
          ],
          "font": {
           "color": "#2a3f5f"
          },
          "geo": {
           "bgcolor": "white",
           "lakecolor": "white",
           "landcolor": "#E5ECF6",
           "showlakes": true,
           "showland": true,
           "subunitcolor": "white"
          },
          "hoverlabel": {
           "align": "left"
          },
          "hovermode": "closest",
          "mapbox": {
           "style": "light"
          },
          "paper_bgcolor": "white",
          "plot_bgcolor": "#E5ECF6",
          "polar": {
           "angularaxis": {
            "gridcolor": "white",
            "linecolor": "white",
            "ticks": ""
           },
           "bgcolor": "#E5ECF6",
           "radialaxis": {
            "gridcolor": "white",
            "linecolor": "white",
            "ticks": ""
           }
          },
          "scene": {
           "xaxis": {
            "backgroundcolor": "#E5ECF6",
            "gridcolor": "white",
            "gridwidth": 2,
            "linecolor": "white",
            "showbackground": true,
            "ticks": "",
            "zerolinecolor": "white"
           },
           "yaxis": {
            "backgroundcolor": "#E5ECF6",
            "gridcolor": "white",
            "gridwidth": 2,
            "linecolor": "white",
            "showbackground": true,
            "ticks": "",
            "zerolinecolor": "white"
           },
           "zaxis": {
            "backgroundcolor": "#E5ECF6",
            "gridcolor": "white",
            "gridwidth": 2,
            "linecolor": "white",
            "showbackground": true,
            "ticks": "",
            "zerolinecolor": "white"
           }
          },
          "shapedefaults": {
           "line": {
            "color": "#2a3f5f"
           }
          },
          "ternary": {
           "aaxis": {
            "gridcolor": "white",
            "linecolor": "white",
            "ticks": ""
           },
           "baxis": {
            "gridcolor": "white",
            "linecolor": "white",
            "ticks": ""
           },
           "bgcolor": "#E5ECF6",
           "caxis": {
            "gridcolor": "white",
            "linecolor": "white",
            "ticks": ""
           }
          },
          "title": {
           "x": 0.05
          },
          "xaxis": {
           "automargin": true,
           "gridcolor": "white",
           "linecolor": "white",
           "ticks": "",
           "title": {
            "standoff": 15
           },
           "zerolinecolor": "white",
           "zerolinewidth": 2
          },
          "yaxis": {
           "automargin": true,
           "gridcolor": "white",
           "linecolor": "white",
           "ticks": "",
           "title": {
            "standoff": 15
           },
           "zerolinecolor": "white",
           "zerolinewidth": 2
          }
         }
        },
        "title": {
         "text": "Total Deaths by Country"
        }
       }
      }
     },
     "metadata": {},
     "output_type": "display_data"
    },
    {
     "ename": "ValueError",
     "evalue": "\nImage export using the \"kaleido\" engine requires the kaleido package,\nwhich can be installed using pip:\n    $ pip install -U kaleido\n",
     "output_type": "error",
     "traceback": [
      "\u001b[1;31m---------------------------------------------------------------------------\u001b[0m",
      "\u001b[1;31mValueError\u001b[0m                                Traceback (most recent call last)",
      "\u001b[1;32mc:\\My Files\\Computer Science\\7 - Seventh Semester\\Data Science\\Assignments\\2\\Mahan Madani - 99222092 - Assignment 2.ipynb Cell 41\u001b[0m line \u001b[0;36m1\n\u001b[0;32m      <a href='vscode-notebook-cell:/c%3A/My%20Files/Computer%20Science/7%20-%20Seventh%20Semester/Data%20Science/Assignments/2/Mahan%20Madani%20-%2099222092%20-%20Assignment%202.ipynb#X55sZmlsZQ%3D%3D?line=7'>8</a>\u001b[0m \u001b[39m# Show the plot\u001b[39;00m\n\u001b[0;32m      <a href='vscode-notebook-cell:/c%3A/My%20Files/Computer%20Science/7%20-%20Seventh%20Semester/Data%20Science/Assignments/2/Mahan%20Madani%20-%2099222092%20-%20Assignment%202.ipynb#X55sZmlsZQ%3D%3D?line=8'>9</a>\u001b[0m fig\u001b[39m.\u001b[39mshow()\n\u001b[1;32m---> <a href='vscode-notebook-cell:/c%3A/My%20Files/Computer%20Science/7%20-%20Seventh%20Semester/Data%20Science/Assignments/2/Mahan%20Madani%20-%2099222092%20-%20Assignment%202.ipynb#X55sZmlsZQ%3D%3D?line=9'>10</a>\u001b[0m fig\u001b[39m.\u001b[39;49mwrite_image(\u001b[39m\"\u001b[39;49m\u001b[39mmap.png\u001b[39;49m\u001b[39m\"\u001b[39;49m, width\u001b[39m=\u001b[39;49m\u001b[39m1920\u001b[39;49m, height\u001b[39m=\u001b[39;49m\u001b[39m1080\u001b[39;49m, scale\u001b[39m=\u001b[39;49m\u001b[39m3\u001b[39;49m)\n",
      "File \u001b[1;32mc:\\Users\\Mahan\\AppData\\Local\\Programs\\Python\\Python312\\Lib\\site-packages\\plotly\\basedatatypes.py:3841\u001b[0m, in \u001b[0;36mBaseFigure.write_image\u001b[1;34m(self, *args, **kwargs)\u001b[0m\n\u001b[0;32m   3781\u001b[0m \u001b[39m\u001b[39m\u001b[39m\"\"\"\u001b[39;00m\n\u001b[0;32m   3782\u001b[0m \u001b[39mConvert a figure to a static image and write it to a file or writeable\u001b[39;00m\n\u001b[0;32m   3783\u001b[0m \u001b[39mobject\u001b[39;00m\n\u001b[1;32m   (...)\u001b[0m\n\u001b[0;32m   3837\u001b[0m \u001b[39mNone\u001b[39;00m\n\u001b[0;32m   3838\u001b[0m \u001b[39m\"\"\"\u001b[39;00m\n\u001b[0;32m   3839\u001b[0m \u001b[39mimport\u001b[39;00m \u001b[39mplotly\u001b[39;00m\u001b[39m.\u001b[39;00m\u001b[39mio\u001b[39;00m \u001b[39mas\u001b[39;00m \u001b[39mpio\u001b[39;00m\n\u001b[1;32m-> 3841\u001b[0m \u001b[39mreturn\u001b[39;00m pio\u001b[39m.\u001b[39;49mwrite_image(\u001b[39mself\u001b[39;49m, \u001b[39m*\u001b[39;49margs, \u001b[39m*\u001b[39;49m\u001b[39m*\u001b[39;49mkwargs)\n",
      "File \u001b[1;32mc:\\Users\\Mahan\\AppData\\Local\\Programs\\Python\\Python312\\Lib\\site-packages\\plotly\\io\\_kaleido.py:266\u001b[0m, in \u001b[0;36mwrite_image\u001b[1;34m(fig, file, format, scale, width, height, validate, engine)\u001b[0m\n\u001b[0;32m    250\u001b[0m             \u001b[39mraise\u001b[39;00m \u001b[39mValueError\u001b[39;00m(\n\u001b[0;32m    251\u001b[0m \u001b[39m                \u001b[39m\u001b[39m\"\"\"\u001b[39;00m\n\u001b[0;32m    252\u001b[0m \u001b[39mCannot infer image type from output path '{file}'.\u001b[39;00m\n\u001b[1;32m   (...)\u001b[0m\n\u001b[0;32m    260\u001b[0m                 )\n\u001b[0;32m    261\u001b[0m             )\n\u001b[0;32m    263\u001b[0m     \u001b[39m# Request image\u001b[39;00m\n\u001b[0;32m    264\u001b[0m     \u001b[39m# -------------\u001b[39;00m\n\u001b[0;32m    265\u001b[0m     \u001b[39m# Do this first so we don't create a file if image conversion fails\u001b[39;00m\n\u001b[1;32m--> 266\u001b[0m     img_data \u001b[39m=\u001b[39m to_image(\n\u001b[0;32m    267\u001b[0m         fig,\n\u001b[0;32m    268\u001b[0m         \u001b[39mformat\u001b[39;49m\u001b[39m=\u001b[39;49m\u001b[39mformat\u001b[39;49m,\n\u001b[0;32m    269\u001b[0m         scale\u001b[39m=\u001b[39;49mscale,\n\u001b[0;32m    270\u001b[0m         width\u001b[39m=\u001b[39;49mwidth,\n\u001b[0;32m    271\u001b[0m         height\u001b[39m=\u001b[39;49mheight,\n\u001b[0;32m    272\u001b[0m         validate\u001b[39m=\u001b[39;49mvalidate,\n\u001b[0;32m    273\u001b[0m         engine\u001b[39m=\u001b[39;49mengine,\n\u001b[0;32m    274\u001b[0m     )\n\u001b[0;32m    276\u001b[0m     \u001b[39m# Open file\u001b[39;00m\n\u001b[0;32m    277\u001b[0m     \u001b[39m# ---------\u001b[39;00m\n\u001b[0;32m    278\u001b[0m     \u001b[39mif\u001b[39;00m path \u001b[39mis\u001b[39;00m \u001b[39mNone\u001b[39;00m:\n\u001b[0;32m    279\u001b[0m         \u001b[39m# We previously failed to make sense of `file` as a pathlib object.\u001b[39;00m\n\u001b[0;32m    280\u001b[0m         \u001b[39m# Attempt to write to `file` as an open file descriptor.\u001b[39;00m\n",
      "File \u001b[1;32mc:\\Users\\Mahan\\AppData\\Local\\Programs\\Python\\Python312\\Lib\\site-packages\\plotly\\io\\_kaleido.py:132\u001b[0m, in \u001b[0;36mto_image\u001b[1;34m(fig, format, width, height, scale, validate, engine)\u001b[0m\n\u001b[0;32m    130\u001b[0m     \u001b[39m# Raise informative error message if Kaleido is not installed\u001b[39;00m\n\u001b[0;32m    131\u001b[0m     \u001b[39mif\u001b[39;00m scope \u001b[39mis\u001b[39;00m \u001b[39mNone\u001b[39;00m:\n\u001b[1;32m--> 132\u001b[0m         \u001b[39mraise\u001b[39;00m \u001b[39mValueError\u001b[39;00m(\n\u001b[0;32m    133\u001b[0m \u001b[39m            \u001b[39m\u001b[39m\"\"\"\u001b[39;00m\n\u001b[0;32m    134\u001b[0m \u001b[39mImage export using the \"kaleido\" engine requires the kaleido package,\u001b[39;00m\n\u001b[0;32m    135\u001b[0m \u001b[39mwhich can be installed using pip:\u001b[39;00m\n\u001b[0;32m    136\u001b[0m \u001b[39m    $ pip install -U kaleido\u001b[39;00m\n\u001b[0;32m    137\u001b[0m \u001b[39m\"\"\"\u001b[39;00m\n\u001b[0;32m    138\u001b[0m         )\n\u001b[0;32m    140\u001b[0m     \u001b[39m# Validate figure\u001b[39;00m\n\u001b[0;32m    141\u001b[0m     \u001b[39m# ---------------\u001b[39;00m\n\u001b[0;32m    142\u001b[0m     fig_dict \u001b[39m=\u001b[39m validate_coerce_fig_to_dict(fig, validate)\n",
      "\u001b[1;31mValueError\u001b[0m: \nImage export using the \"kaleido\" engine requires the kaleido package,\nwhich can be installed using pip:\n    $ pip install -U kaleido\n"
     ]
    }
   ],
   "source": [
    "# Create a choropleth map using plotly\n",
    "fig = px.choropleth(grouped_df, \n",
    "                    locations='location', \n",
    "                    locationmode='country names',\n",
    "                    color='total deaths',\n",
    "                    title='Total Deaths by Country')\n",
    "\n",
    "# Show the plot\n",
    "fig.show()\n",
    "fig.write_image(\"map.png\", width=1920, height=1080, scale=3)\n"
   ]
  },
  {
   "cell_type": "code",
   "execution_count": null,
   "metadata": {},
   "outputs": [],
   "source": []
  }
 ],
 "metadata": {
  "kernelspec": {
   "display_name": "Python 3",
   "language": "python",
   "name": "python3"
  },
  "language_info": {
   "codemirror_mode": {
    "name": "ipython",
    "version": 3
   },
   "file_extension": ".py",
   "mimetype": "text/x-python",
   "name": "python",
   "nbconvert_exporter": "python",
   "pygments_lexer": "ipython3",
   "version": "3.12.0"
  }
 },
 "nbformat": 4,
 "nbformat_minor": 2
}
