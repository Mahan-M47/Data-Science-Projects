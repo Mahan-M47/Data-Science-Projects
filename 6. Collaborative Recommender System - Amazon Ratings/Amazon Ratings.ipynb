{
 "cells": [
  {
   "cell_type": "code",
   "execution_count": 1,
   "id": "c08e9347",
   "metadata": {},
   "outputs": [],
   "source": [
    "# Load basic libraries\n",
    "import pandas as pd\n",
    "import numpy as np\n",
    "\n",
    "from sklearn.preprocessing import LabelEncoder\n",
    "from sklearn.decomposition import PCA\n",
    "\n",
    "from sklearn.decomposition import TruncatedSVD\n",
    "from sklearn.cluster import DBSCAN\n",
    "from sklearn.preprocessing import MinMaxScaler\n",
    "\n",
    "import matplotlib.pyplot as plt\n",
    "import seaborn as sns\n",
    "\n",
    "from datetime import datetime"
   ]
  },
  {
   "cell_type": "code",
   "execution_count": 2,
   "metadata": {},
   "outputs": [
    {
     "name": "stdout",
     "output_type": "stream",
     "text": [
      "Index(['UserId', 'ProductId', 'Rating', 'Timestamp'], dtype='object')\n",
      "(2023070, 4)\n"
     ]
    }
   ],
   "source": [
    "df = pd.read_csv(\"ratings_Beauty.csv\")\n",
    "print(df.columns)\n",
    "print(df.shape)"
   ]
  },
  {
   "cell_type": "markdown",
   "id": "d67a9a33",
   "metadata": {},
   "source": [
    "## Univariate Variable Analysis\n",
    "\n"
   ]
  },
  {
   "cell_type": "code",
   "execution_count": 3,
   "id": "4628f5b3",
   "metadata": {},
   "outputs": [],
   "source": [
    "df = df.rename(columns={'UserId': 'UserID', 'ProductId': 'ProductID'})"
   ]
  },
  {
   "cell_type": "code",
   "execution_count": 4,
   "id": "af42f885",
   "metadata": {},
   "outputs": [
    {
     "data": {
      "text/html": [
       "<div>\n",
       "<style scoped>\n",
       "    .dataframe tbody tr th:only-of-type {\n",
       "        vertical-align: middle;\n",
       "    }\n",
       "\n",
       "    .dataframe tbody tr th {\n",
       "        vertical-align: top;\n",
       "    }\n",
       "\n",
       "    .dataframe thead th {\n",
       "        text-align: right;\n",
       "    }\n",
       "</style>\n",
       "<table border=\"1\" class=\"dataframe\">\n",
       "  <thead>\n",
       "    <tr style=\"text-align: right;\">\n",
       "      <th></th>\n",
       "      <th>UserID</th>\n",
       "      <th>ProductID</th>\n",
       "    </tr>\n",
       "  </thead>\n",
       "  <tbody>\n",
       "    <tr>\n",
       "      <th>count</th>\n",
       "      <td>2023070</td>\n",
       "      <td>2023070</td>\n",
       "    </tr>\n",
       "    <tr>\n",
       "      <th>unique</th>\n",
       "      <td>1210271</td>\n",
       "      <td>249274</td>\n",
       "    </tr>\n",
       "    <tr>\n",
       "      <th>top</th>\n",
       "      <td>A3KEZLJ59C1JVH</td>\n",
       "      <td>B001MA0QY2</td>\n",
       "    </tr>\n",
       "    <tr>\n",
       "      <th>freq</th>\n",
       "      <td>389</td>\n",
       "      <td>7533</td>\n",
       "    </tr>\n",
       "  </tbody>\n",
       "</table>\n",
       "</div>"
      ],
      "text/plain": [
       "                UserID   ProductID\n",
       "count          2023070     2023070\n",
       "unique         1210271      249274\n",
       "top     A3KEZLJ59C1JVH  B001MA0QY2\n",
       "freq               389        7533"
      ]
     },
     "execution_count": 4,
     "metadata": {},
     "output_type": "execute_result"
    }
   ],
   "source": [
    "df.describe(include=['object'])"
   ]
  },
  {
   "cell_type": "code",
   "execution_count": 142,
   "id": "f4117d63",
   "metadata": {},
   "outputs": [
    {
     "data": {
      "text/html": [
       "<div>\n",
       "<style scoped>\n",
       "    .dataframe tbody tr th:only-of-type {\n",
       "        vertical-align: middle;\n",
       "    }\n",
       "\n",
       "    .dataframe tbody tr th {\n",
       "        vertical-align: top;\n",
       "    }\n",
       "\n",
       "    .dataframe thead th {\n",
       "        text-align: right;\n",
       "    }\n",
       "</style>\n",
       "<table border=\"1\" class=\"dataframe\">\n",
       "  <thead>\n",
       "    <tr style=\"text-align: right;\">\n",
       "      <th></th>\n",
       "      <th>UserID</th>\n",
       "      <th>ProductID</th>\n",
       "      <th>Rating</th>\n",
       "      <th>Timestamp</th>\n",
       "    </tr>\n",
       "  </thead>\n",
       "  <tbody>\n",
       "    <tr>\n",
       "      <th>0</th>\n",
       "      <td>A39HTATAQ9V7YF</td>\n",
       "      <td>0205616461</td>\n",
       "      <td>5.0</td>\n",
       "      <td>1369699200</td>\n",
       "    </tr>\n",
       "    <tr>\n",
       "      <th>1</th>\n",
       "      <td>A3JM6GV9MNOF9X</td>\n",
       "      <td>0558925278</td>\n",
       "      <td>3.0</td>\n",
       "      <td>1355443200</td>\n",
       "    </tr>\n",
       "    <tr>\n",
       "      <th>2</th>\n",
       "      <td>A1Z513UWSAAO0F</td>\n",
       "      <td>0558925278</td>\n",
       "      <td>5.0</td>\n",
       "      <td>1404691200</td>\n",
       "    </tr>\n",
       "  </tbody>\n",
       "</table>\n",
       "</div>"
      ],
      "text/plain": [
       "           UserID   ProductID  Rating   Timestamp\n",
       "0  A39HTATAQ9V7YF  0205616461     5.0  1369699200\n",
       "1  A3JM6GV9MNOF9X  0558925278     3.0  1355443200\n",
       "2  A1Z513UWSAAO0F  0558925278     5.0  1404691200"
      ]
     },
     "execution_count": 142,
     "metadata": {},
     "output_type": "execute_result"
    }
   ],
   "source": [
    "df.head(3)"
   ]
  },
  {
   "cell_type": "markdown",
   "id": "df5d0f53",
   "metadata": {},
   "source": [
    "## Basic Data Analysis\n",
    "\n"
   ]
  },
  {
   "cell_type": "markdown",
   "id": "28598a7e",
   "metadata": {},
   "source": [
    "<h4>Check for Duplicate Values</h4>"
   ]
  },
  {
   "cell_type": "code",
   "execution_count": 143,
   "id": "989d90ff",
   "metadata": {},
   "outputs": [
    {
     "name": "stdout",
     "output_type": "stream",
     "text": [
      "No duplicate records found.\n"
     ]
    }
   ],
   "source": [
    "columns_to_check_duplicates = df.columns\n",
    "duplicated = df.duplicated(subset=columns_to_check_duplicates, keep=False)\n",
    "duplicate_rows = df[duplicated]\n",
    "\n",
    "if not duplicate_rows.empty:\n",
    "    print(\"Duplicate records found:\")\n",
    "    print(duplicated.sum())\n",
    "else:\n",
    "    print(\"No duplicate records found.\")"
   ]
  },
  {
   "cell_type": "markdown",
   "id": "909e96c7",
   "metadata": {},
   "source": [
    "<h4>Handle Null Values</h4>"
   ]
  },
  {
   "cell_type": "code",
   "execution_count": 144,
   "id": "7868f1ab",
   "metadata": {},
   "outputs": [
    {
     "data": {
      "text/html": [
       "<div>\n",
       "<style scoped>\n",
       "    .dataframe tbody tr th:only-of-type {\n",
       "        vertical-align: middle;\n",
       "    }\n",
       "\n",
       "    .dataframe tbody tr th {\n",
       "        vertical-align: top;\n",
       "    }\n",
       "\n",
       "    .dataframe thead th {\n",
       "        text-align: right;\n",
       "    }\n",
       "</style>\n",
       "<table border=\"1\" class=\"dataframe\">\n",
       "  <thead>\n",
       "    <tr style=\"text-align: right;\">\n",
       "      <th></th>\n",
       "      <th>Null Count</th>\n",
       "    </tr>\n",
       "  </thead>\n",
       "  <tbody>\n",
       "    <tr>\n",
       "      <th>UserID</th>\n",
       "      <td>0</td>\n",
       "    </tr>\n",
       "    <tr>\n",
       "      <th>ProductID</th>\n",
       "      <td>0</td>\n",
       "    </tr>\n",
       "    <tr>\n",
       "      <th>Rating</th>\n",
       "      <td>0</td>\n",
       "    </tr>\n",
       "    <tr>\n",
       "      <th>Timestamp</th>\n",
       "      <td>0</td>\n",
       "    </tr>\n",
       "  </tbody>\n",
       "</table>\n",
       "</div>"
      ],
      "text/plain": [
       "           Null Count\n",
       "UserID              0\n",
       "ProductID           0\n",
       "Rating              0\n",
       "Timestamp           0"
      ]
     },
     "execution_count": 144,
     "metadata": {},
     "output_type": "execute_result"
    }
   ],
   "source": [
    "null_counts = df.isnull().sum()\n",
    "null_table = pd.DataFrame(null_counts, columns=[\"Null Count\"])\n",
    "null_table"
   ]
  },
  {
   "cell_type": "markdown",
   "id": "5f1eab6a",
   "metadata": {},
   "source": [
    "\n",
    "## Feature Engineering\n",
    "\n"
   ]
  },
  {
   "cell_type": "markdown",
   "id": "fe484134",
   "metadata": {},
   "source": [
    "<h4>Genrate new features</h4>"
   ]
  },
  {
   "cell_type": "code",
   "execution_count": 145,
   "id": "077bbcab",
   "metadata": {},
   "outputs": [
    {
     "data": {
      "text/html": [
       "<div>\n",
       "<style scoped>\n",
       "    .dataframe tbody tr th:only-of-type {\n",
       "        vertical-align: middle;\n",
       "    }\n",
       "\n",
       "    .dataframe tbody tr th {\n",
       "        vertical-align: top;\n",
       "    }\n",
       "\n",
       "    .dataframe thead th {\n",
       "        text-align: right;\n",
       "    }\n",
       "</style>\n",
       "<table border=\"1\" class=\"dataframe\">\n",
       "  <thead>\n",
       "    <tr style=\"text-align: right;\">\n",
       "      <th></th>\n",
       "      <th>UserID</th>\n",
       "      <th>ProductID</th>\n",
       "      <th>Rating</th>\n",
       "      <th>Timestamp</th>\n",
       "      <th>Datetime</th>\n",
       "      <th>Month</th>\n",
       "      <th>Year</th>\n",
       "    </tr>\n",
       "  </thead>\n",
       "  <tbody>\n",
       "    <tr>\n",
       "      <th>0</th>\n",
       "      <td>A39HTATAQ9V7YF</td>\n",
       "      <td>0205616461</td>\n",
       "      <td>5.0</td>\n",
       "      <td>1369699200</td>\n",
       "      <td>2013-05-28</td>\n",
       "      <td>05</td>\n",
       "      <td>2013</td>\n",
       "    </tr>\n",
       "    <tr>\n",
       "      <th>1</th>\n",
       "      <td>A3JM6GV9MNOF9X</td>\n",
       "      <td>0558925278</td>\n",
       "      <td>3.0</td>\n",
       "      <td>1355443200</td>\n",
       "      <td>2012-12-14</td>\n",
       "      <td>12</td>\n",
       "      <td>2012</td>\n",
       "    </tr>\n",
       "    <tr>\n",
       "      <th>2</th>\n",
       "      <td>A1Z513UWSAAO0F</td>\n",
       "      <td>0558925278</td>\n",
       "      <td>5.0</td>\n",
       "      <td>1404691200</td>\n",
       "      <td>2014-07-07</td>\n",
       "      <td>07</td>\n",
       "      <td>2014</td>\n",
       "    </tr>\n",
       "  </tbody>\n",
       "</table>\n",
       "</div>"
      ],
      "text/plain": [
       "           UserID   ProductID  Rating   Timestamp   Datetime Month  Year\n",
       "0  A39HTATAQ9V7YF  0205616461     5.0  1369699200 2013-05-28    05  2013\n",
       "1  A3JM6GV9MNOF9X  0558925278     3.0  1355443200 2012-12-14    12  2012\n",
       "2  A1Z513UWSAAO0F  0558925278     5.0  1404691200 2014-07-07    07  2014"
      ]
     },
     "execution_count": 145,
     "metadata": {},
     "output_type": "execute_result"
    }
   ],
   "source": [
    "df['Datetime'] = df['Timestamp'].apply(lambda x: datetime.utcfromtimestamp(x))\n",
    "df['Month'] = df['Datetime'].apply(lambda x: x.strftime('%m'))\n",
    "df['Year'] = df['Datetime'].apply(lambda x: x.strftime('%Y'))\n",
    "\n",
    "df.head(3)"
   ]
  },
  {
   "cell_type": "markdown",
   "metadata": {},
   "source": [
    "<h2>Visualization</h2>"
   ]
  },
  {
   "cell_type": "code",
   "execution_count": 146,
   "id": "3ee1b657",
   "metadata": {},
   "outputs": [
    {
     "data": {
      "text/plain": [
       "UserID\n",
       "A3KEZLJ59C1JVH    389\n",
       "A281NPSIMI1C2R    336\n",
       "A3M174IC0VXOS2    326\n",
       "A2V5R832QCSOMX    278\n",
       "A3LJLRIZL38GG3    276\n",
       "ALQGOMOY1F5X9     275\n",
       "AKMEY1BSHSDG7     269\n",
       "A3R9H6OKZHHRJD    259\n",
       "A1M04H40ZVGWVG    249\n",
       "A1RRMZKOMZ2M7J    225\n",
       "Name: count, dtype: int64"
      ]
     },
     "execution_count": 146,
     "metadata": {},
     "output_type": "execute_result"
    }
   ],
   "source": [
    "df['UserID'].value_counts().head(10)"
   ]
  },
  {
   "cell_type": "code",
   "execution_count": 147,
   "id": "c1a6e99a",
   "metadata": {},
   "outputs": [
    {
     "data": {
      "text/plain": [
       "<AxesSubplot: ylabel='Frequency'>"
      ]
     },
     "execution_count": 147,
     "metadata": {},
     "output_type": "execute_result"
    },
    {
     "data": {
      "image/png": "[encoded data removed]",
      "text/plain": [
       "<Figure size 640x480 with 1 Axes>"
      ]
     },
     "metadata": {},
     "output_type": "display_data"
    }
   ],
   "source": [
    "df['Rating'].plot(kind='hist', bins=5, color='skyblue', edgecolor='black')"
   ]
  },
  {
   "cell_type": "code",
   "execution_count": 148,
   "id": "68639ea8",
   "metadata": {},
   "outputs": [
    {
     "data": {
      "image/png": "[encoded data removed]",
      "text/plain": [
       "<Figure size 640x480 with 1 Axes>"
      ]
     },
     "metadata": {},
     "output_type": "display_data"
    }
   ],
   "source": [
    "df['Rating'].plot(kind='density', color='skyblue')\n",
    "\n",
    "plt.title('Density plot of prodcut Ratings')\n",
    "plt.ylabel('Density')\n",
    "plt.xlabel('Rating')\n",
    "plt.show()"
   ]
  },
  {
   "cell_type": "code",
   "execution_count": 149,
   "id": "588b9f3b",
   "metadata": {},
   "outputs": [
    {
     "data": {
      "image/png": "[encoded data removed]",
      "text/plain": [
       "<Figure size 640x480 with 1 Axes>"
      ]
     },
     "metadata": {},
     "output_type": "display_data"
    }
   ],
   "source": [
    "df['Month'].value_counts().sort_index().plot(kind='bar', color='skyblue', edgecolor='black')\n",
    "\n",
    "plt.title('Product sales by month')\n",
    "plt.ylabel('Sale amount')\n",
    "plt.xlabel('Month')\n",
    "plt.show()"
   ]
  },
  {
   "cell_type": "code",
   "execution_count": 150,
   "id": "cd97e997",
   "metadata": {},
   "outputs": [
    {
     "data": {
      "image/png": "[encoded data removed]",
      "text/plain": [
       "<Figure size 700x700 with 1 Axes>"
      ]
     },
     "metadata": {},
     "output_type": "display_data"
    }
   ],
   "source": [
    "plt.figure(figsize=(7,7))\n",
    "\n",
    "df['Year'].value_counts().head(8).plot(kind='pie')\n",
    "plt.title('Product sales distribution based on year')\n",
    "plt.ylabel('')\n",
    "plt.show()"
   ]
  },
  {
   "cell_type": "markdown",
   "id": "a07091d5",
   "metadata": {},
   "source": [
    "<h2>Matrix Factorizaton"
   ]
  },
  {
   "cell_type": "code",
   "execution_count": 151,
   "id": "eca1e4aa",
   "metadata": {},
   "outputs": [],
   "source": [
    "# df = df.sample(frac=1).reset_index(drop=True)\n",
    "factoriztion_df = df[['UserID', 'ProductID', 'Rating']].copy().head(100000)\n",
    "user_item_matrix = factoriztion_df.pivot(index='UserID', columns='ProductID', values='Rating').fillna(0)"
   ]
  },
  {
   "cell_type": "code",
   "execution_count": 152,
   "id": "99d0d1b8",
   "metadata": {},
   "outputs": [
    {
     "name": "stdout",
     "output_type": "stream",
     "text": [
      "(91656, 20)\n",
      "(20, 6384)\n"
     ]
    }
   ],
   "source": [
    "SVD = TruncatedSVD(n_components=20)\n",
    "users_matrix = SVD.fit_transform(user_item_matrix)  # U⋅Σ\n",
    "items_matrix = SVD.components_ # V-transposed\n",
    "\n",
    "print(users_matrix.shape)\n",
    "print(items_matrix.shape)"
   ]
  },
  {
   "cell_type": "code",
   "execution_count": 153,
   "id": "710a6611",
   "metadata": {},
   "outputs": [],
   "source": [
    "# Choose a user as an example\n",
    "row_array = users_matrix[2, :]"
   ]
  },
  {
   "cell_type": "code",
   "execution_count": 154,
   "id": "3fd27e8c",
   "metadata": {},
   "outputs": [
    {
     "data": {
      "text/plain": [
       "(1, 6384)"
      ]
     },
     "execution_count": 154,
     "metadata": {},
     "output_type": "execute_result"
    }
   ],
   "source": [
    "recom = row_array.reshape(1, -1).dot(items_matrix)\n",
    "recom.shape"
   ]
  },
  {
   "cell_type": "code",
   "execution_count": 155,
   "id": "73cd972e",
   "metadata": {},
   "outputs": [
    {
     "data": {
      "text/plain": [
       "array([[-0.11145368, -0.06691366, -0.04830443, ...,  0.09984467,\n",
       "         0.14778911,  0.16830915]])"
      ]
     },
     "execution_count": 155,
     "metadata": {},
     "output_type": "execute_result"
    }
   ],
   "source": [
    "recom.sort()\n",
    "recom"
   ]
  },
  {
   "cell_type": "code",
   "execution_count": 156,
   "id": "6d582e2c",
   "metadata": {},
   "outputs": [
    {
     "data": {
      "text/plain": [
       "array([[-1.37792656e-09,  3.99477034e-07,  2.25804590e-06, ...,\n",
       "         1.58825986e-04,  1.39909764e-04,  1.43294862e-04],\n",
       "       [ 2.49078970e-06,  1.51579726e-05,  5.14617256e-05, ...,\n",
       "        -9.98850120e-05, -4.09096501e-04, -9.24266989e-04],\n",
       "       [ 3.20193224e-03,  4.62038617e-03,  6.90977318e-03, ...,\n",
       "         2.37081745e-01,  2.01733857e-02,  1.28943508e-01],\n",
       "       ...,\n",
       "       [-3.32200130e-08,  3.93261012e-06, -4.95101618e-06, ...,\n",
       "        -9.02508146e-05, -8.47235674e-05, -6.14367971e-04],\n",
       "       [-2.79703814e-17,  8.54278859e-17, -5.02794168e-15, ...,\n",
       "        -8.19653240e-13,  6.20033210e-13, -6.89255579e-13],\n",
       "       [ 7.26938465e-06,  3.49892603e-05,  1.88318368e-04, ...,\n",
       "        -2.27135630e-02,  1.84851635e-01, -6.52870862e-02]])"
      ]
     },
     "execution_count": 156,
     "metadata": {},
     "output_type": "execute_result"
    }
   ],
   "source": [
    "users_matrix"
   ]
  },
  {
   "cell_type": "markdown",
   "id": "bb40e22d",
   "metadata": {},
   "source": [
    "<h2> Clustering"
   ]
  },
  {
   "cell_type": "markdown",
   "id": "17b913f7",
   "metadata": {},
   "source": [
    "Clustering Method: DBSCAN"
   ]
  },
  {
   "cell_type": "code",
   "execution_count": 5,
   "id": "f62d5722",
   "metadata": {},
   "outputs": [],
   "source": [
    "cluster_df = df[['UserID', 'ProductID', 'Rating']].copy().head(50000)\n",
    "\n",
    "label_encoder_user = LabelEncoder()\n",
    "label_encoder_product = LabelEncoder()\n",
    "\n",
    "cluster_df['UserID'] = label_encoder_user.fit_transform(cluster_df['UserID'])\n",
    "cluster_df['ProductID'] = label_encoder_product.fit_transform(cluster_df['ProductID'])\n",
    "\n",
    "user_item_matrix = cluster_df.pivot(index='UserID', columns='ProductID', values='Rating').fillna(0)"
   ]
  },
  {
   "cell_type": "code",
   "execution_count": 6,
   "id": "094e4498",
   "metadata": {},
   "outputs": [
    {
     "name": "stdout",
     "output_type": "stream",
     "text": [
      "(47017, 2581)\n"
     ]
    },
    {
     "data": {
      "text/html": [
       "<div>\n",
       "<style scoped>\n",
       "    .dataframe tbody tr th:only-of-type {\n",
       "        vertical-align: middle;\n",
       "    }\n",
       "\n",
       "    .dataframe tbody tr th {\n",
       "        vertical-align: top;\n",
       "    }\n",
       "\n",
       "    .dataframe thead th {\n",
       "        text-align: right;\n",
       "    }\n",
       "</style>\n",
       "<table border=\"1\" class=\"dataframe\">\n",
       "  <thead>\n",
       "    <tr style=\"text-align: right;\">\n",
       "      <th>ProductID</th>\n",
       "      <th>0</th>\n",
       "      <th>1</th>\n",
       "      <th>2</th>\n",
       "      <th>3</th>\n",
       "      <th>4</th>\n",
       "      <th>5</th>\n",
       "      <th>6</th>\n",
       "      <th>7</th>\n",
       "      <th>8</th>\n",
       "      <th>9</th>\n",
       "      <th>...</th>\n",
       "      <th>2571</th>\n",
       "      <th>2572</th>\n",
       "      <th>2573</th>\n",
       "      <th>2574</th>\n",
       "      <th>2575</th>\n",
       "      <th>2576</th>\n",
       "      <th>2577</th>\n",
       "      <th>2578</th>\n",
       "      <th>2579</th>\n",
       "      <th>2580</th>\n",
       "    </tr>\n",
       "    <tr>\n",
       "      <th>UserID</th>\n",
       "      <th></th>\n",
       "      <th></th>\n",
       "      <th></th>\n",
       "      <th></th>\n",
       "      <th></th>\n",
       "      <th></th>\n",
       "      <th></th>\n",
       "      <th></th>\n",
       "      <th></th>\n",
       "      <th></th>\n",
       "      <th></th>\n",
       "      <th></th>\n",
       "      <th></th>\n",
       "      <th></th>\n",
       "      <th></th>\n",
       "      <th></th>\n",
       "      <th></th>\n",
       "      <th></th>\n",
       "      <th></th>\n",
       "      <th></th>\n",
       "      <th></th>\n",
       "    </tr>\n",
       "  </thead>\n",
       "  <tbody>\n",
       "    <tr>\n",
       "      <th>0</th>\n",
       "      <td>0.0</td>\n",
       "      <td>0.0</td>\n",
       "      <td>0.0</td>\n",
       "      <td>0.0</td>\n",
       "      <td>0.0</td>\n",
       "      <td>0.0</td>\n",
       "      <td>0.0</td>\n",
       "      <td>0.0</td>\n",
       "      <td>0.0</td>\n",
       "      <td>0.0</td>\n",
       "      <td>...</td>\n",
       "      <td>0.0</td>\n",
       "      <td>0.0</td>\n",
       "      <td>0.0</td>\n",
       "      <td>0.0</td>\n",
       "      <td>0.0</td>\n",
       "      <td>0.0</td>\n",
       "      <td>0.0</td>\n",
       "      <td>0.0</td>\n",
       "      <td>0.0</td>\n",
       "      <td>0.0</td>\n",
       "    </tr>\n",
       "    <tr>\n",
       "      <th>1</th>\n",
       "      <td>0.0</td>\n",
       "      <td>0.0</td>\n",
       "      <td>0.0</td>\n",
       "      <td>0.0</td>\n",
       "      <td>0.0</td>\n",
       "      <td>0.0</td>\n",
       "      <td>0.0</td>\n",
       "      <td>0.0</td>\n",
       "      <td>0.0</td>\n",
       "      <td>0.0</td>\n",
       "      <td>...</td>\n",
       "      <td>0.0</td>\n",
       "      <td>0.0</td>\n",
       "      <td>0.0</td>\n",
       "      <td>0.0</td>\n",
       "      <td>0.0</td>\n",
       "      <td>0.0</td>\n",
       "      <td>0.0</td>\n",
       "      <td>0.0</td>\n",
       "      <td>0.0</td>\n",
       "      <td>0.0</td>\n",
       "    </tr>\n",
       "    <tr>\n",
       "      <th>2</th>\n",
       "      <td>0.0</td>\n",
       "      <td>0.0</td>\n",
       "      <td>0.0</td>\n",
       "      <td>0.0</td>\n",
       "      <td>0.0</td>\n",
       "      <td>0.0</td>\n",
       "      <td>0.0</td>\n",
       "      <td>0.0</td>\n",
       "      <td>0.0</td>\n",
       "      <td>0.0</td>\n",
       "      <td>...</td>\n",
       "      <td>0.0</td>\n",
       "      <td>0.0</td>\n",
       "      <td>0.0</td>\n",
       "      <td>0.0</td>\n",
       "      <td>0.0</td>\n",
       "      <td>0.0</td>\n",
       "      <td>0.0</td>\n",
       "      <td>0.0</td>\n",
       "      <td>0.0</td>\n",
       "      <td>0.0</td>\n",
       "    </tr>\n",
       "    <tr>\n",
       "      <th>3</th>\n",
       "      <td>0.0</td>\n",
       "      <td>0.0</td>\n",
       "      <td>0.0</td>\n",
       "      <td>0.0</td>\n",
       "      <td>0.0</td>\n",
       "      <td>0.0</td>\n",
       "      <td>0.0</td>\n",
       "      <td>0.0</td>\n",
       "      <td>0.0</td>\n",
       "      <td>0.0</td>\n",
       "      <td>...</td>\n",
       "      <td>0.0</td>\n",
       "      <td>0.0</td>\n",
       "      <td>0.0</td>\n",
       "      <td>0.0</td>\n",
       "      <td>0.0</td>\n",
       "      <td>0.0</td>\n",
       "      <td>0.0</td>\n",
       "      <td>0.0</td>\n",
       "      <td>0.0</td>\n",
       "      <td>0.0</td>\n",
       "    </tr>\n",
       "    <tr>\n",
       "      <th>4</th>\n",
       "      <td>0.0</td>\n",
       "      <td>0.0</td>\n",
       "      <td>0.0</td>\n",
       "      <td>0.0</td>\n",
       "      <td>0.0</td>\n",
       "      <td>0.0</td>\n",
       "      <td>0.0</td>\n",
       "      <td>0.0</td>\n",
       "      <td>0.0</td>\n",
       "      <td>0.0</td>\n",
       "      <td>...</td>\n",
       "      <td>0.0</td>\n",
       "      <td>0.0</td>\n",
       "      <td>0.0</td>\n",
       "      <td>0.0</td>\n",
       "      <td>0.0</td>\n",
       "      <td>0.0</td>\n",
       "      <td>0.0</td>\n",
       "      <td>0.0</td>\n",
       "      <td>0.0</td>\n",
       "      <td>0.0</td>\n",
       "    </tr>\n",
       "  </tbody>\n",
       "</table>\n",
       "<p>5 rows × 2581 columns</p>\n",
       "</div>"
      ],
      "text/plain": [
       "ProductID  0     1     2     3     4     5     6     7     8     9     ...   \n",
       "UserID                                                                 ...   \n",
       "0           0.0   0.0   0.0   0.0   0.0   0.0   0.0   0.0   0.0   0.0  ...  \\\n",
       "1           0.0   0.0   0.0   0.0   0.0   0.0   0.0   0.0   0.0   0.0  ...   \n",
       "2           0.0   0.0   0.0   0.0   0.0   0.0   0.0   0.0   0.0   0.0  ...   \n",
       "3           0.0   0.0   0.0   0.0   0.0   0.0   0.0   0.0   0.0   0.0  ...   \n",
       "4           0.0   0.0   0.0   0.0   0.0   0.0   0.0   0.0   0.0   0.0  ...   \n",
       "\n",
       "ProductID  2571  2572  2573  2574  2575  2576  2577  2578  2579  2580  \n",
       "UserID                                                                 \n",
       "0           0.0   0.0   0.0   0.0   0.0   0.0   0.0   0.0   0.0   0.0  \n",
       "1           0.0   0.0   0.0   0.0   0.0   0.0   0.0   0.0   0.0   0.0  \n",
       "2           0.0   0.0   0.0   0.0   0.0   0.0   0.0   0.0   0.0   0.0  \n",
       "3           0.0   0.0   0.0   0.0   0.0   0.0   0.0   0.0   0.0   0.0  \n",
       "4           0.0   0.0   0.0   0.0   0.0   0.0   0.0   0.0   0.0   0.0  \n",
       "\n",
       "[5 rows x 2581 columns]"
      ]
     },
     "execution_count": 6,
     "metadata": {},
     "output_type": "execute_result"
    }
   ],
   "source": [
    "print(user_item_matrix.shape)\n",
    "user_item_matrix.head()"
   ]
  },
  {
   "cell_type": "code",
   "execution_count": 7,
   "id": "f2f199cf",
   "metadata": {},
   "outputs": [
    {
     "data": {
      "text/plain": [
       "(47017, 20)"
      ]
     },
     "execution_count": 7,
     "metadata": {},
     "output_type": "execute_result"
    }
   ],
   "source": [
    "pca = PCA(n_components=20)\n",
    "encoded_matrix = pca.fit_transform(user_item_matrix)\n",
    "encoded_matrix.shape"
   ]
  },
  {
   "cell_type": "code",
   "execution_count": 8,
   "id": "7eea7488",
   "metadata": {},
   "outputs": [
    {
     "data": {
      "text/html": [
       "<div>\n",
       "<style scoped>\n",
       "    .dataframe tbody tr th:only-of-type {\n",
       "        vertical-align: middle;\n",
       "    }\n",
       "\n",
       "    .dataframe tbody tr th {\n",
       "        vertical-align: top;\n",
       "    }\n",
       "\n",
       "    .dataframe thead th {\n",
       "        text-align: right;\n",
       "    }\n",
       "</style>\n",
       "<table border=\"1\" class=\"dataframe\">\n",
       "  <thead>\n",
       "    <tr style=\"text-align: right;\">\n",
       "      <th></th>\n",
       "      <th>0</th>\n",
       "      <th>1</th>\n",
       "      <th>2</th>\n",
       "      <th>3</th>\n",
       "      <th>4</th>\n",
       "      <th>5</th>\n",
       "      <th>6</th>\n",
       "      <th>7</th>\n",
       "      <th>8</th>\n",
       "      <th>9</th>\n",
       "      <th>10</th>\n",
       "      <th>11</th>\n",
       "      <th>12</th>\n",
       "      <th>13</th>\n",
       "      <th>14</th>\n",
       "      <th>15</th>\n",
       "      <th>16</th>\n",
       "      <th>17</th>\n",
       "      <th>18</th>\n",
       "      <th>19</th>\n",
       "    </tr>\n",
       "  </thead>\n",
       "  <tbody>\n",
       "    <tr>\n",
       "      <th>0</th>\n",
       "      <td>-0.185830</td>\n",
       "      <td>-0.044484</td>\n",
       "      <td>-0.012220</td>\n",
       "      <td>0.001948</td>\n",
       "      <td>0.037998</td>\n",
       "      <td>-0.073204</td>\n",
       "      <td>-0.049395</td>\n",
       "      <td>-0.016271</td>\n",
       "      <td>-0.001717</td>\n",
       "      <td>-0.023642</td>\n",
       "      <td>-0.031154</td>\n",
       "      <td>-0.046869</td>\n",
       "      <td>-0.020004</td>\n",
       "      <td>-0.027312</td>\n",
       "      <td>-0.040485</td>\n",
       "      <td>-0.032470</td>\n",
       "      <td>-0.001878</td>\n",
       "      <td>0.021055</td>\n",
       "      <td>0.023045</td>\n",
       "      <td>0.024688</td>\n",
       "    </tr>\n",
       "    <tr>\n",
       "      <th>1</th>\n",
       "      <td>-0.184940</td>\n",
       "      <td>-0.043945</td>\n",
       "      <td>-0.012129</td>\n",
       "      <td>0.001802</td>\n",
       "      <td>0.037459</td>\n",
       "      <td>-0.072175</td>\n",
       "      <td>-0.048685</td>\n",
       "      <td>-0.017398</td>\n",
       "      <td>-0.004352</td>\n",
       "      <td>-0.019587</td>\n",
       "      <td>-0.029873</td>\n",
       "      <td>-0.045209</td>\n",
       "      <td>-0.019442</td>\n",
       "      <td>-0.026835</td>\n",
       "      <td>-0.040004</td>\n",
       "      <td>-0.033310</td>\n",
       "      <td>-0.007173</td>\n",
       "      <td>0.015802</td>\n",
       "      <td>0.021345</td>\n",
       "      <td>0.023317</td>\n",
       "    </tr>\n",
       "    <tr>\n",
       "      <th>2</th>\n",
       "      <td>-0.190458</td>\n",
       "      <td>-0.049016</td>\n",
       "      <td>-0.013869</td>\n",
       "      <td>0.001743</td>\n",
       "      <td>0.043463</td>\n",
       "      <td>-0.081361</td>\n",
       "      <td>-0.056691</td>\n",
       "      <td>-0.018415</td>\n",
       "      <td>-0.002642</td>\n",
       "      <td>-0.029531</td>\n",
       "      <td>-0.037977</td>\n",
       "      <td>-0.058456</td>\n",
       "      <td>-0.026318</td>\n",
       "      <td>-0.042790</td>\n",
       "      <td>-0.043291</td>\n",
       "      <td>-0.053418</td>\n",
       "      <td>-0.003053</td>\n",
       "      <td>0.046806</td>\n",
       "      <td>0.025219</td>\n",
       "      <td>0.016421</td>\n",
       "    </tr>\n",
       "    <tr>\n",
       "      <th>3</th>\n",
       "      <td>-0.194565</td>\n",
       "      <td>-0.057243</td>\n",
       "      <td>-0.019040</td>\n",
       "      <td>0.003052</td>\n",
       "      <td>0.061376</td>\n",
       "      <td>-0.126649</td>\n",
       "      <td>-0.111065</td>\n",
       "      <td>0.929997</td>\n",
       "      <td>-0.071354</td>\n",
       "      <td>0.195030</td>\n",
       "      <td>0.052563</td>\n",
       "      <td>0.094206</td>\n",
       "      <td>0.018915</td>\n",
       "      <td>0.019562</td>\n",
       "      <td>0.022061</td>\n",
       "      <td>0.010648</td>\n",
       "      <td>-0.000279</td>\n",
       "      <td>-0.005292</td>\n",
       "      <td>-0.007861</td>\n",
       "      <td>-0.004245</td>\n",
       "    </tr>\n",
       "    <tr>\n",
       "      <th>4</th>\n",
       "      <td>-0.184070</td>\n",
       "      <td>-0.043581</td>\n",
       "      <td>-0.011961</td>\n",
       "      <td>0.001903</td>\n",
       "      <td>0.037200</td>\n",
       "      <td>-0.071750</td>\n",
       "      <td>-0.045497</td>\n",
       "      <td>-0.015658</td>\n",
       "      <td>-0.001650</td>\n",
       "      <td>-0.022768</td>\n",
       "      <td>-0.029986</td>\n",
       "      <td>-0.045021</td>\n",
       "      <td>-0.019114</td>\n",
       "      <td>-0.026110</td>\n",
       "      <td>-0.038833</td>\n",
       "      <td>-0.031177</td>\n",
       "      <td>-0.001951</td>\n",
       "      <td>0.020129</td>\n",
       "      <td>0.022050</td>\n",
       "      <td>0.023464</td>\n",
       "    </tr>\n",
       "  </tbody>\n",
       "</table>\n",
       "</div>"
      ],
      "text/plain": [
       "         0         1         2         3         4         5         6    \n",
       "0 -0.185830 -0.044484 -0.012220  0.001948  0.037998 -0.073204 -0.049395  \\\n",
       "1 -0.184940 -0.043945 -0.012129  0.001802  0.037459 -0.072175 -0.048685   \n",
       "2 -0.190458 -0.049016 -0.013869  0.001743  0.043463 -0.081361 -0.056691   \n",
       "3 -0.194565 -0.057243 -0.019040  0.003052  0.061376 -0.126649 -0.111065   \n",
       "4 -0.184070 -0.043581 -0.011961  0.001903  0.037200 -0.071750 -0.045497   \n",
       "\n",
       "         7         8         9         10        11        12        13   \n",
       "0 -0.016271 -0.001717 -0.023642 -0.031154 -0.046869 -0.020004 -0.027312  \\\n",
       "1 -0.017398 -0.004352 -0.019587 -0.029873 -0.045209 -0.019442 -0.026835   \n",
       "2 -0.018415 -0.002642 -0.029531 -0.037977 -0.058456 -0.026318 -0.042790   \n",
       "3  0.929997 -0.071354  0.195030  0.052563  0.094206  0.018915  0.019562   \n",
       "4 -0.015658 -0.001650 -0.022768 -0.029986 -0.045021 -0.019114 -0.026110   \n",
       "\n",
       "         14        15        16        17        18        19  \n",
       "0 -0.040485 -0.032470 -0.001878  0.021055  0.023045  0.024688  \n",
       "1 -0.040004 -0.033310 -0.007173  0.015802  0.021345  0.023317  \n",
       "2 -0.043291 -0.053418 -0.003053  0.046806  0.025219  0.016421  \n",
       "3  0.022061  0.010648 -0.000279 -0.005292 -0.007861 -0.004245  \n",
       "4 -0.038833 -0.031177 -0.001951  0.020129  0.022050  0.023464  "
      ]
     },
     "execution_count": 8,
     "metadata": {},
     "output_type": "execute_result"
    }
   ],
   "source": [
    "encoded_df = pd.DataFrame(encoded_matrix)\n",
    "encoded_df.head(5)"
   ]
  },
  {
   "cell_type": "code",
   "execution_count": 9,
   "id": "d4a361a3",
   "metadata": {},
   "outputs": [],
   "source": [
    "scaler = MinMaxScaler()\n",
    "encoded_df = pd.DataFrame(scaler.fit_transform(encoded_df))"
   ]
  },
  {
   "cell_type": "code",
   "execution_count": 10,
   "id": "a875df69",
   "metadata": {},
   "outputs": [
    {
     "data": {
      "text/html": [
       "<div>\n",
       "<style scoped>\n",
       "    .dataframe tbody tr th:only-of-type {\n",
       "        vertical-align: middle;\n",
       "    }\n",
       "\n",
       "    .dataframe tbody tr th {\n",
       "        vertical-align: top;\n",
       "    }\n",
       "\n",
       "    .dataframe thead th {\n",
       "        text-align: right;\n",
       "    }\n",
       "</style>\n",
       "<table border=\"1\" class=\"dataframe\">\n",
       "  <thead>\n",
       "    <tr style=\"text-align: right;\">\n",
       "      <th></th>\n",
       "      <th>0</th>\n",
       "      <th>1</th>\n",
       "      <th>2</th>\n",
       "      <th>3</th>\n",
       "      <th>4</th>\n",
       "      <th>5</th>\n",
       "      <th>6</th>\n",
       "      <th>7</th>\n",
       "      <th>8</th>\n",
       "      <th>9</th>\n",
       "      <th>10</th>\n",
       "      <th>11</th>\n",
       "      <th>12</th>\n",
       "      <th>13</th>\n",
       "      <th>14</th>\n",
       "      <th>15</th>\n",
       "      <th>16</th>\n",
       "      <th>17</th>\n",
       "      <th>18</th>\n",
       "      <th>19</th>\n",
       "    </tr>\n",
       "  </thead>\n",
       "  <tbody>\n",
       "    <tr>\n",
       "      <th>0</th>\n",
       "      <td>0.037114</td>\n",
       "      <td>0.086983</td>\n",
       "      <td>0.266927</td>\n",
       "      <td>0.482779</td>\n",
       "      <td>0.505200</td>\n",
       "      <td>0.195444</td>\n",
       "      <td>0.128358</td>\n",
       "      <td>0.256033</td>\n",
       "      <td>0.456415</td>\n",
       "      <td>0.440427</td>\n",
       "      <td>0.323212</td>\n",
       "      <td>0.220465</td>\n",
       "      <td>0.322445</td>\n",
       "      <td>0.317104</td>\n",
       "      <td>0.238425</td>\n",
       "      <td>0.235527</td>\n",
       "      <td>0.482434</td>\n",
       "      <td>0.465212</td>\n",
       "      <td>0.482536</td>\n",
       "      <td>0.399667</td>\n",
       "    </tr>\n",
       "    <tr>\n",
       "      <th>1</th>\n",
       "      <td>0.037286</td>\n",
       "      <td>0.087079</td>\n",
       "      <td>0.266942</td>\n",
       "      <td>0.482759</td>\n",
       "      <td>0.505112</td>\n",
       "      <td>0.195625</td>\n",
       "      <td>0.128482</td>\n",
       "      <td>0.255860</td>\n",
       "      <td>0.456069</td>\n",
       "      <td>0.441007</td>\n",
       "      <td>0.323372</td>\n",
       "      <td>0.220777</td>\n",
       "      <td>0.322527</td>\n",
       "      <td>0.317169</td>\n",
       "      <td>0.238497</td>\n",
       "      <td>0.235392</td>\n",
       "      <td>0.481706</td>\n",
       "      <td>0.464390</td>\n",
       "      <td>0.482302</td>\n",
       "      <td>0.399458</td>\n",
       "    </tr>\n",
       "    <tr>\n",
       "      <th>2</th>\n",
       "      <td>0.036222</td>\n",
       "      <td>0.086177</td>\n",
       "      <td>0.266668</td>\n",
       "      <td>0.482751</td>\n",
       "      <td>0.506098</td>\n",
       "      <td>0.194004</td>\n",
       "      <td>0.127093</td>\n",
       "      <td>0.255704</td>\n",
       "      <td>0.456293</td>\n",
       "      <td>0.439585</td>\n",
       "      <td>0.322363</td>\n",
       "      <td>0.218287</td>\n",
       "      <td>0.321517</td>\n",
       "      <td>0.314974</td>\n",
       "      <td>0.238003</td>\n",
       "      <td>0.232178</td>\n",
       "      <td>0.482273</td>\n",
       "      <td>0.469245</td>\n",
       "      <td>0.482835</td>\n",
       "      <td>0.398405</td>\n",
       "    </tr>\n",
       "    <tr>\n",
       "      <th>3</th>\n",
       "      <td>0.035430</td>\n",
       "      <td>0.084714</td>\n",
       "      <td>0.265855</td>\n",
       "      <td>0.482929</td>\n",
       "      <td>0.509039</td>\n",
       "      <td>0.186013</td>\n",
       "      <td>0.117664</td>\n",
       "      <td>0.401154</td>\n",
       "      <td>0.447283</td>\n",
       "      <td>0.471693</td>\n",
       "      <td>0.333628</td>\n",
       "      <td>0.246983</td>\n",
       "      <td>0.328164</td>\n",
       "      <td>0.323553</td>\n",
       "      <td>0.247831</td>\n",
       "      <td>0.242419</td>\n",
       "      <td>0.482654</td>\n",
       "      <td>0.461086</td>\n",
       "      <td>0.478281</td>\n",
       "      <td>0.395249</td>\n",
       "    </tr>\n",
       "    <tr>\n",
       "      <th>4</th>\n",
       "      <td>0.037454</td>\n",
       "      <td>0.087143</td>\n",
       "      <td>0.266968</td>\n",
       "      <td>0.482773</td>\n",
       "      <td>0.505069</td>\n",
       "      <td>0.195700</td>\n",
       "      <td>0.129034</td>\n",
       "      <td>0.256127</td>\n",
       "      <td>0.456423</td>\n",
       "      <td>0.440552</td>\n",
       "      <td>0.323357</td>\n",
       "      <td>0.220812</td>\n",
       "      <td>0.322576</td>\n",
       "      <td>0.317269</td>\n",
       "      <td>0.238673</td>\n",
       "      <td>0.235733</td>\n",
       "      <td>0.482424</td>\n",
       "      <td>0.465067</td>\n",
       "      <td>0.482399</td>\n",
       "      <td>0.399480</td>\n",
       "    </tr>\n",
       "  </tbody>\n",
       "</table>\n",
       "</div>"
      ],
      "text/plain": [
       "         0         1         2         3         4         5         6    \n",
       "0  0.037114  0.086983  0.266927  0.482779  0.505200  0.195444  0.128358  \\\n",
       "1  0.037286  0.087079  0.266942  0.482759  0.505112  0.195625  0.128482   \n",
       "2  0.036222  0.086177  0.266668  0.482751  0.506098  0.194004  0.127093   \n",
       "3  0.035430  0.084714  0.265855  0.482929  0.509039  0.186013  0.117664   \n",
       "4  0.037454  0.087143  0.266968  0.482773  0.505069  0.195700  0.129034   \n",
       "\n",
       "         7         8         9         10        11        12        13   \n",
       "0  0.256033  0.456415  0.440427  0.323212  0.220465  0.322445  0.317104  \\\n",
       "1  0.255860  0.456069  0.441007  0.323372  0.220777  0.322527  0.317169   \n",
       "2  0.255704  0.456293  0.439585  0.322363  0.218287  0.321517  0.314974   \n",
       "3  0.401154  0.447283  0.471693  0.333628  0.246983  0.328164  0.323553   \n",
       "4  0.256127  0.456423  0.440552  0.323357  0.220812  0.322576  0.317269   \n",
       "\n",
       "         14        15        16        17        18        19  \n",
       "0  0.238425  0.235527  0.482434  0.465212  0.482536  0.399667  \n",
       "1  0.238497  0.235392  0.481706  0.464390  0.482302  0.399458  \n",
       "2  0.238003  0.232178  0.482273  0.469245  0.482835  0.398405  \n",
       "3  0.247831  0.242419  0.482654  0.461086  0.478281  0.395249  \n",
       "4  0.238673  0.235733  0.482424  0.465067  0.482399  0.399480  "
      ]
     },
     "execution_count": 10,
     "metadata": {},
     "output_type": "execute_result"
    }
   ],
   "source": [
    "encoded_df.head(5)"
   ]
  },
  {
   "cell_type": "code",
   "execution_count": 11,
   "id": "b52731fc",
   "metadata": {},
   "outputs": [],
   "source": [
    "epsilon = 0.01\n",
    "min_samples = 100\n",
    "\n",
    "dbscan = DBSCAN(eps=epsilon, min_samples=min_samples)\n",
    "user_clusters = dbscan.fit_predict(encoded_df)"
   ]
  },
  {
   "cell_type": "code",
   "execution_count": 16,
   "id": "106fe225",
   "metadata": {},
   "outputs": [
    {
     "name": "stdout",
     "output_type": "stream",
     "text": [
      "47\n",
      "Cluster\n",
      " 0     31095\n",
      "-1      4491\n",
      " 3      1580\n",
      " 10      438\n",
      " 9       433\n",
      " 19      415\n",
      " 37      359\n",
      " 7       330\n",
      " 8       317\n",
      " 25      287\n",
      " 4       281\n",
      " 46      280\n",
      " 1       277\n",
      " 39      266\n",
      " 30      261\n",
      " 28      244\n",
      " 31      240\n",
      " 43      236\n",
      " 34      235\n",
      " 35      229\n",
      " 12      222\n",
      " 18      215\n",
      " 14      214\n",
      " 2       214\n",
      " 6       213\n",
      " 36      201\n",
      " 32      197\n",
      " 24      189\n",
      " 16      187\n",
      " 13      184\n",
      " 29      181\n",
      " 17      180\n",
      " 20      179\n",
      " 38      173\n",
      " 21      170\n",
      " 22      164\n",
      " 40      162\n",
      " 15      158\n",
      " 23      154\n",
      " 45      152\n",
      " 5       145\n",
      " 26      143\n",
      " 42      140\n",
      " 41      130\n",
      " 27      127\n",
      " 33      115\n",
      " 44      110\n",
      " 11      104\n",
      "Name: count, dtype: int64\n"
     ]
    }
   ],
   "source": [
    "# Add the cluster labels to the DataFrame\n",
    "user_df = pd.DataFrame()\n",
    "user_df['Cluster'] = user_clusters\n",
    "\n",
    "# Analyze the clusters\n",
    "cluster_counts = user_df['Cluster'].value_counts()\n",
    "print(cluster_counts.nunique())\n",
    "print(cluster_counts)"
   ]
  },
  {
   "cell_type": "code",
   "execution_count": 14,
   "id": "65e82498",
   "metadata": {},
   "outputs": [
    {
     "data": {
      "text/html": [
       "<div>\n",
       "<style scoped>\n",
       "    .dataframe tbody tr th:only-of-type {\n",
       "        vertical-align: middle;\n",
       "    }\n",
       "\n",
       "    .dataframe tbody tr th {\n",
       "        vertical-align: top;\n",
       "    }\n",
       "\n",
       "    .dataframe thead th {\n",
       "        text-align: right;\n",
       "    }\n",
       "</style>\n",
       "<table border=\"1\" class=\"dataframe\">\n",
       "  <thead>\n",
       "    <tr style=\"text-align: right;\">\n",
       "      <th></th>\n",
       "      <th>Cluster</th>\n",
       "    </tr>\n",
       "  </thead>\n",
       "  <tbody>\n",
       "    <tr>\n",
       "      <th>0</th>\n",
       "      <td>0</td>\n",
       "    </tr>\n",
       "    <tr>\n",
       "      <th>1</th>\n",
       "      <td>0</td>\n",
       "    </tr>\n",
       "    <tr>\n",
       "      <th>2</th>\n",
       "      <td>0</td>\n",
       "    </tr>\n",
       "    <tr>\n",
       "      <th>3</th>\n",
       "      <td>-1</td>\n",
       "    </tr>\n",
       "    <tr>\n",
       "      <th>4</th>\n",
       "      <td>0</td>\n",
       "    </tr>\n",
       "    <tr>\n",
       "      <th>5</th>\n",
       "      <td>0</td>\n",
       "    </tr>\n",
       "    <tr>\n",
       "      <th>6</th>\n",
       "      <td>0</td>\n",
       "    </tr>\n",
       "    <tr>\n",
       "      <th>7</th>\n",
       "      <td>0</td>\n",
       "    </tr>\n",
       "    <tr>\n",
       "      <th>8</th>\n",
       "      <td>1</td>\n",
       "    </tr>\n",
       "    <tr>\n",
       "      <th>9</th>\n",
       "      <td>0</td>\n",
       "    </tr>\n",
       "    <tr>\n",
       "      <th>10</th>\n",
       "      <td>0</td>\n",
       "    </tr>\n",
       "    <tr>\n",
       "      <th>11</th>\n",
       "      <td>2</td>\n",
       "    </tr>\n",
       "    <tr>\n",
       "      <th>12</th>\n",
       "      <td>0</td>\n",
       "    </tr>\n",
       "    <tr>\n",
       "      <th>13</th>\n",
       "      <td>0</td>\n",
       "    </tr>\n",
       "    <tr>\n",
       "      <th>14</th>\n",
       "      <td>0</td>\n",
       "    </tr>\n",
       "    <tr>\n",
       "      <th>15</th>\n",
       "      <td>0</td>\n",
       "    </tr>\n",
       "    <tr>\n",
       "      <th>16</th>\n",
       "      <td>3</td>\n",
       "    </tr>\n",
       "    <tr>\n",
       "      <th>17</th>\n",
       "      <td>0</td>\n",
       "    </tr>\n",
       "    <tr>\n",
       "      <th>18</th>\n",
       "      <td>0</td>\n",
       "    </tr>\n",
       "    <tr>\n",
       "      <th>19</th>\n",
       "      <td>0</td>\n",
       "    </tr>\n",
       "    <tr>\n",
       "      <th>20</th>\n",
       "      <td>0</td>\n",
       "    </tr>\n",
       "    <tr>\n",
       "      <th>21</th>\n",
       "      <td>0</td>\n",
       "    </tr>\n",
       "    <tr>\n",
       "      <th>22</th>\n",
       "      <td>0</td>\n",
       "    </tr>\n",
       "    <tr>\n",
       "      <th>23</th>\n",
       "      <td>4</td>\n",
       "    </tr>\n",
       "    <tr>\n",
       "      <th>24</th>\n",
       "      <td>0</td>\n",
       "    </tr>\n",
       "    <tr>\n",
       "      <th>25</th>\n",
       "      <td>5</td>\n",
       "    </tr>\n",
       "    <tr>\n",
       "      <th>26</th>\n",
       "      <td>-1</td>\n",
       "    </tr>\n",
       "    <tr>\n",
       "      <th>27</th>\n",
       "      <td>6</td>\n",
       "    </tr>\n",
       "    <tr>\n",
       "      <th>28</th>\n",
       "      <td>0</td>\n",
       "    </tr>\n",
       "    <tr>\n",
       "      <th>29</th>\n",
       "      <td>0</td>\n",
       "    </tr>\n",
       "  </tbody>\n",
       "</table>\n",
       "</div>"
      ],
      "text/plain": [
       "    Cluster\n",
       "0         0\n",
       "1         0\n",
       "2         0\n",
       "3        -1\n",
       "4         0\n",
       "5         0\n",
       "6         0\n",
       "7         0\n",
       "8         1\n",
       "9         0\n",
       "10        0\n",
       "11        2\n",
       "12        0\n",
       "13        0\n",
       "14        0\n",
       "15        0\n",
       "16        3\n",
       "17        0\n",
       "18        0\n",
       "19        0\n",
       "20        0\n",
       "21        0\n",
       "22        0\n",
       "23        4\n",
       "24        0\n",
       "25        5\n",
       "26       -1\n",
       "27        6\n",
       "28        0\n",
       "29        0"
      ]
     },
     "execution_count": 14,
     "metadata": {},
     "output_type": "execute_result"
    }
   ],
   "source": [
    "user_df.head(30)"
   ]
  },
  {
   "cell_type": "code",
   "execution_count": null,
   "id": "53d46456",
   "metadata": {},
   "outputs": [],
   "source": []
  }
 ],
 "metadata": {
  "kernelspec": {
   "display_name": "Python 3 (ipykernel)",
   "language": "python",
   "name": "python3"
  },
  "language_info": {
   "codemirror_mode": {
    "name": "ipython",
    "version": 3
   },
   "file_extension": ".py",
   "mimetype": "text/x-python",
   "name": "python",
   "nbconvert_exporter": "python",
   "pygments_lexer": "ipython3",
   "version": "3.10.4"
  }
 },
 "nbformat": 4,
 "nbformat_minor": 5
}
